{
 "cells": [
  {
   "cell_type": "code",
   "execution_count": 1,
   "metadata": {},
   "outputs": [],
   "source": [
    "import os\n",
    "import pandas as pd\n",
    "import numpy as np\n",
    "import matplotlib.pyplot as plt\n",
    "import seaborn as sns\n",
    "from PIL import Image as PILImage\n",
    "import cv2 \n",
    "from sklearn.model_selection import train_test_split\n",
    "from sklearn.metrics import classification_report, confusion_matrix, accuracy_score\n",
    "\n",
    "import torch\n",
    "import torch.nn as nn\n",
    "import torch.optim as optim\n",
    "from torch.utils.data import Dataset, DataLoader\n",
    "import torchvision.transforms as transforms\n",
    "from torchvision.datasets import ImageFolder # Can be an alternative if folders are structured correctly\n",
    "from tqdm.notebook import tqdm # For progress bars (optional, install if needed)\n",
    "import copy # To save best model weights"
   ]
  },
  {
   "cell_type": "code",
   "execution_count": 2,
   "metadata": {},
   "outputs": [],
   "source": [
    "folder_path_potato_early = \"/PlantVillage/Potato___Early_blight\"\n",
    "folder_path_potato_late = \"/PlantVillage/Potato___Late_blight\"\n",
    "folder_path_potato_healthy = \"/PlantVillage/Potato___healthy\"\n",
    "\n",
    "folder_path_bell_healthy = \"/PlantVillage/Pepper__bell___healthy\"\n",
    "folder_path_Bacterial_spot = \"/PlantVillage/Pepper__bell___Bacterial_spot\"\n",
    "\n",
    "image_files_potato_early = [os.path.join(folder_path_potato_early, file) for file in os.listdir(folder_path_potato_early) if file.lower().endswith(('png', 'jpg', 'jpeg', 'bmp', 'gif'))]\n",
    "image_files_potato_late = [os.path.join(folder_path_potato_late, file) for file in os.listdir(folder_path_potato_late) if file.lower().endswith(('png', 'jpg', 'jpeg', 'bmp', 'gif'))]\n",
    "image_files_potato_healthy = [os.path.join(folder_path_potato_healthy, file) for file in os.listdir(folder_path_potato_healthy) if file.lower().endswith(('png', 'jpg', 'jpeg', 'bmp', 'gif'))]\n",
    "image_files_bell_healthy = [os.path.join(folder_path_bell_healthy, file) for file in os.listdir(folder_path_bell_healthy) if file.lower().endswith(('png', 'jpg', 'jpeg', 'bmp', 'gif'))]\n",
    "image_files_Bacterial_spot = [os.path.join(folder_path_Bacterial_spot, file) for file in os.listdir(folder_path_Bacterial_spot) if file.lower().endswith(('png', 'jpg', 'jpeg', 'bmp', 'gif'))]\n",
    "\n",
    "# Combine all image files into a single list\n",
    "image_files_potato = image_files_potato_early + image_files_potato_late + image_files_potato_healthy\n",
    "image_files_bell = image_files_bell_healthy + image_files_Bacterial_spot\n",
    "\n",
    "df_potato = pd.DataFrame(image_files_potato, columns=[\"File Path\"])\n",
    "df_bell = pd.DataFrame(image_files_bell, columns=[\"File Path\"])\n",
    "\n",
    "# Combine DataFrames\n",
    "data_potato = pd.concat([df_potato], ignore_index=True)\n",
    "data_bell = pd.concat([df_bell], ignore_index=True)\n",
    "\n",
    "# Add labels\n",
    "data_potato['Label'] = 'Potato'\n",
    "data_bell['Label'] = 'Bell'\n",
    "# Combine potato and bell data\n",
    "data = pd.concat([data_potato, data_bell], ignore_index=True)\n",
    "\n",
    "data['Label_Str'] = ['potato'] * len(df_potato) + ['bell'] * len(df_bell)\n",
    "label_map = {'potato': 0, 'bell': 1}\n",
    "data['Label'] = data['Label_Str'].map(label_map)\n",
    "data['Label'] = data['Label'].astype(int) \n",
    "data['File Path'] = data['File Path'].astype(str)\n",
    "\n",
    "# Shuffle the data\n",
    "data = data.sample(frac=1, random_state=42).reset_index(drop=True)"
   ]
  },
  {
   "cell_type": "code",
   "execution_count": 3,
   "metadata": {},
   "outputs": [
    {
     "name": "stdout",
     "output_type": "stream",
     "text": [
      "Combined DataFrame Head:\n",
      "                                           File Path  Label Label_Str\n",
      "0  /home/abdelrahmanelsayed/PC/My_Projects/CV/Pla...      1      bell\n",
      "1  /home/abdelrahmanelsayed/PC/My_Projects/CV/Pla...      0    potato\n",
      "2  /home/abdelrahmanelsayed/PC/My_Projects/CV/Pla...      1      bell\n",
      "3  /home/abdelrahmanelsayed/PC/My_Projects/CV/Pla...      1      bell\n",
      "4  /home/abdelrahmanelsayed/PC/My_Projects/CV/Pla...      0    potato\n",
      "\n",
      "DataFrame Info:\n",
      "<class 'pandas.core.frame.DataFrame'>\n",
      "RangeIndex: 4627 entries, 0 to 4626\n",
      "Data columns (total 3 columns):\n",
      " #   Column     Non-Null Count  Dtype \n",
      "---  ------     --------------  ----- \n",
      " 0   File Path  4627 non-null   object\n",
      " 1   Label      4627 non-null   int64 \n",
      " 2   Label_Str  4627 non-null   object\n",
      "dtypes: int64(1), object(2)\n",
      "memory usage: 108.6+ KB\n",
      "None\n",
      "\n",
      "Value Counts for Labels:\n",
      "Label_Str\n",
      "bell      2475\n",
      "potato    2152\n",
      "Name: count, dtype: int64\n"
     ]
    }
   ],
   "source": [
    "print(\"Combined DataFrame Head:\")\n",
    "print(data.head())\n",
    "print(\"\\nDataFrame Info:\")\n",
    "print(data.info())\n",
    "print(\"\\nValue Counts for Labels:\")\n",
    "print(data['Label_Str'].value_counts())"
   ]
  },
  {
   "cell_type": "code",
   "execution_count": 4,
   "metadata": {},
   "outputs": [
    {
     "name": "stdout",
     "output_type": "stream",
     "text": [
      "\n",
      "Image Dimension Statistics:\n",
      "       Height   Width  Channels\n",
      "count  4627.0  4627.0    4627.0\n",
      "mean    256.0   256.0       3.0\n",
      "std       0.0     0.0       0.0\n",
      "min     256.0   256.0       3.0\n",
      "25%     256.0   256.0       3.0\n",
      "50%     256.0   256.0       3.0\n",
      "75%     256.0   256.0       3.0\n",
      "max     256.0   256.0       3.0\n",
      "\n",
      "Unique Image Dimensions (Height, Width): [[256 256]]\n",
      "\n",
      "All images have the same dimensions.\n",
      "\n",
      "Unique Channel Counts:\n",
      "Channels\n",
      "3    4627\n",
      "Name: count, dtype: int64\n"
     ]
    },
    {
     "data": {
      "image/png": "[encoded data removed]",
      "text/plain": [
       "<Figure size 600x400 with 1 Axes>"
      ]
     },
     "metadata": {},
     "output_type": "display_data"
    },
    {
     "name": "stdout",
     "output_type": "stream",
     "text": [
      "Label_Str\n",
      "bell      2475\n",
      "potato    2152\n",
      "Name: count, dtype: int64\n"
     ]
    }
   ],
   "source": [
    "image_dims = []\n",
    "error_files = []\n",
    "for file_path in data['File Path']:\n",
    "    try:\n",
    "        img = cv2.imread(file_path)\n",
    "        if img is not None:\n",
    "            image_dims.append(img.shape)\n",
    "        else:\n",
    "            print(f\"Warning: Could not read image {file_path} with OpenCV. Skipping.\")\n",
    "            error_files.append(file_path)\n",
    "    except Exception as e:\n",
    "        print(f\"Error reading image {file_path}: {e}\")\n",
    "        error_files.append(file_path)\n",
    "\n",
    "if error_files:\n",
    "    print(f\"\\nRemoving {len(error_files)} files that could not be read.\")\n",
    "    data = data[~data['File Path'].isin(error_files)].reset_index(drop=True)\n",
    "\n",
    "dims_df = pd.DataFrame(image_dims, columns=['Height', 'Width', 'Channels'])\n",
    "print(\"\\nImage Dimension Statistics:\")\n",
    "print(dims_df.describe())\n",
    "unique_dims = dims_df[['Height', 'Width']].drop_duplicates().values\n",
    "print(\"\\nUnique Image Dimensions (Height, Width):\", unique_dims)\n",
    "if len(unique_dims) > 1:\n",
    "    print(\"\\nWarning: Images have varying dimensions. Resizing will be necessary.\")\n",
    "else:\n",
    "    print(\"\\nAll images have the same dimensions.\")\n",
    "print(\"\\nUnique Channel Counts:\")\n",
    "print(dims_df['Channels'].value_counts())\n",
    "if (dims_df['Channels'] != 3).any():\n",
    "     print(\"Warning: Not all images are 3-channel (RGB). Check/convert non-RGB images.\")\n",
    "\n",
    "plt.figure(figsize=(6, 4))\n",
    "sns.countplot(x='Label_Str', data=data)\n",
    "plt.title('Number of Images per Class')\n",
    "plt.show()\n",
    "print(data['Label_Str'].value_counts())"
   ]
  },
  {
   "cell_type": "code",
   "execution_count": 5,
   "metadata": {},
   "outputs": [
    {
     "name": "stdout",
     "output_type": "stream",
     "text": [
      "Training samples: 3238\n",
      "Validation samples: 694\n",
      "Test samples: 695\n"
     ]
    }
   ],
   "source": [
    "train_df, temp_df = train_test_split(\n",
    "    data, test_size=0.30, random_state=42, stratify=data['Label'])\n",
    "\n",
    "val_df, test_df = train_test_split(\n",
    "    temp_df, test_size=0.50, random_state=42, stratify=temp_df['Label'])\n",
    "\n",
    "print(f\"Training samples: {len(train_df)}\")\n",
    "print(f\"Validation samples: {len(val_df)}\")\n",
    "print(f\"Test samples: {len(test_df)}\")"
   ]
  },
  {
   "cell_type": "code",
   "execution_count": 6,
   "metadata": {},
   "outputs": [],
   "source": [
    "class PlantDataset(Dataset):\n",
    "    def __init__(self, dataframe, transform=None):\n",
    "        \"\"\"\n",
    "        Args:\n",
    "            dataframe (pd.DataFrame): DataFrame with 'File Path' and 'Label' columns.\n",
    "            transform (callable, optional): Optional transform to be applied on a sample.\n",
    "        \"\"\"\n",
    "        self.dataframe = dataframe\n",
    "        self.transform = transform\n",
    "\n",
    "    def __len__(self):\n",
    "        return len(self.dataframe)\n",
    "\n",
    "    def __getitem__(self, idx):\n",
    "        if torch.is_tensor(idx):\n",
    "            idx = idx.tolist()\n",
    "\n",
    "        img_path = self.dataframe.iloc[idx]['File Path']\n",
    "        try:\n",
    "            # Use PIL for compatibility with torchvision transforms\n",
    "            image = PILImage.open(img_path).convert('RGB') # Ensure 3 channels\n",
    "        except Exception as e:\n",
    "            print(f\"Error loading image {img_path}: {e}. Returning None.\")\n",
    "            image = PILImage.open(img_path).convert('RGB')\n",
    "\n",
    "\n",
    "        label = self.dataframe.iloc[idx]['Label']\n",
    "        label = torch.tensor(label, dtype=torch.float32) # BCELoss expects float target\n",
    "\n",
    "        if self.transform:\n",
    "            image = self.transform(image)\n",
    "\n",
    "        return image, label "
   ]
  },
  {
   "cell_type": "code",
   "execution_count": 7,
   "metadata": {},
   "outputs": [],
   "source": [
    "IMG_WIDTH = 128\n",
    "IMG_HEIGHT = 128\n",
    "BATCH_SIZE = 32\n",
    "EPOCHS = 30\n",
    "LEARNING_RATE = 0.0001\n",
    "PATIENCE = 5 \n",
    "\n",
    "mean = [0.485, 0.456, 0.406]\n",
    "std = [0.229, 0.224, 0.225]"
   ]
  },
  {
   "cell_type": "code",
   "execution_count": 8,
   "metadata": {},
   "outputs": [],
   "source": [
    "train_transform = transforms.Compose([\n",
    "    transforms.Resize((IMG_HEIGHT, IMG_WIDTH)),\n",
    "    transforms.RandomRotation(30),\n",
    "    transforms.RandomResizedCrop((IMG_HEIGHT, IMG_WIDTH), scale=(0.8, 1.0)), \n",
    "    transforms.RandomHorizontalFlip(),\n",
    "    transforms.ToTensor(),\n",
    "    transforms.Normalize(mean=mean, std=std)\n",
    "])\n",
    "\n",
    "val_test_transform = transforms.Compose([\n",
    "    transforms.Resize((IMG_HEIGHT, IMG_WIDTH)),\n",
    "    transforms.ToTensor(),\n",
    "    transforms.Normalize(mean=mean, std=std)\n",
    "])"
   ]
  },
  {
   "cell_type": "code",
   "execution_count": 9,
   "metadata": {},
   "outputs": [],
   "source": [
    "train_dataset = PlantDataset(train_df, transform=train_transform)\n",
    "val_dataset = PlantDataset(val_df, transform=val_test_transform)\n",
    "test_dataset = PlantDataset(test_df, transform=val_test_transform)\n",
    "\n",
    "train_loader = DataLoader(train_dataset, batch_size=BATCH_SIZE, shuffle=True, num_workers=4, pin_memory=True)\n",
    "val_loader = DataLoader(val_dataset, batch_size=BATCH_SIZE, shuffle=False, num_workers=4, pin_memory=True)\n",
    "test_loader = DataLoader(test_dataset, batch_size=BATCH_SIZE, shuffle=False, num_workers=4, pin_memory=True)"
   ]
  },
  {
   "cell_type": "code",
   "execution_count": 10,
   "metadata": {},
   "outputs": [],
   "source": [
    "class SimpleCNN(nn.Module):\n",
    "    def __init__(self, num_classes=1):\n",
    "        super(SimpleCNN, self).__init__()\n",
    "        self.conv_block1 = nn.Sequential(\n",
    "            nn.Conv2d(3, 32, kernel_size=3, padding=1), \n",
    "            nn.BatchNorm2d(32),\n",
    "            nn.ReLU(),\n",
    "            nn.MaxPool2d(kernel_size=2, stride=2) \n",
    "        )\n",
    "        self.conv_block2 = nn.Sequential(\n",
    "            nn.Conv2d(32, 64, kernel_size=3, padding=1),\n",
    "            nn.BatchNorm2d(64),\n",
    "            nn.ReLU(),\n",
    "            nn.MaxPool2d(kernel_size=2, stride=2)\n",
    "        )\n",
    "        self.conv_block3 = nn.Sequential(\n",
    "            nn.Conv2d(64, 128, kernel_size=3, padding=1),\n",
    "            nn.BatchNorm2d(128),\n",
    "            nn.ReLU(),\n",
    "            nn.MaxPool2d(kernel_size=2, stride=2) \n",
    "        )\n",
    "\n",
    "        flattened_size = 128 * (IMG_HEIGHT // 8) * (IMG_WIDTH // 8)\n",
    "\n",
    "        self.fc_block = nn.Sequential(\n",
    "            nn.Flatten(),\n",
    "            nn.Linear(flattened_size, 128),\n",
    "            nn.ReLU(),\n",
    "            nn.Dropout(0.5),\n",
    "            nn.Linear(128, num_classes) \n",
    "        )\n",
    "\n",
    "    def forward(self, x):\n",
    "        x = self.conv_block1(x)\n",
    "        x = self.conv_block2(x)\n",
    "        x = self.conv_block3(x)\n",
    "        x = self.fc_block(x)\n",
    "        return x"
   ]
  },
  {
   "cell_type": "code",
   "execution_count": 13,
   "metadata": {},
   "outputs": [
    {
     "name": "stdout",
     "output_type": "stream",
     "text": [
      "Using device: cpu\n"
     ]
    }
   ],
   "source": [
    "device = torch.device(\"cuda\" if torch.cuda.is_available() else \"cpu\")\n",
    "print(f\"Using device: {device}\")"
   ]
  },
  {
   "cell_type": "code",
   "execution_count": 12,
   "metadata": {},
   "outputs": [],
   "source": [
    "model = SimpleCNN(num_classes=1).to(device)\n",
    "\n",
    "criterion = nn.BCEWithLogitsLoss()\n",
    "optimizer = optim.Adam(model.parameters(), lr=LEARNING_RATE)"
   ]
  },
  {
   "cell_type": "code",
   "execution_count": 14,
   "metadata": {},
   "outputs": [
    {
     "data": {
      "application/vnd.jupyter.widget-view+json": {
       "model_id": "b4e8a85a0d7c4c159b8c56dbebb6da87",
       "version_major": 2,
       "version_minor": 0
      },
      "text/plain": [
       "Epoch 1/30 [Train]:   0%|          | 0/102 [00:00<?, ?it/s]"
      ]
     },
     "metadata": {},
     "output_type": "display_data"
    },
    {
     "data": {
      "application/vnd.jupyter.widget-view+json": {
       "model_id": "89837ce36fe34d4b83e2c163f674d636",
       "version_major": 2,
       "version_minor": 0
      },
      "text/plain": [
       "Epoch 1/30 [Validate]:   0%|          | 0/22 [00:00<?, ?it/s]"
      ]
     },
     "metadata": {},
     "output_type": "display_data"
    },
    {
     "name": "stdout",
     "output_type": "stream",
     "text": [
      "Epoch 1/30 => Train Loss: 0.3945, Train Acc: 0.8230 | Val Loss: 0.2761, Val Acc: 0.8905\n",
      "Validation accuracy improved (0.0000 --> 0.8905). Saving model...\n"
     ]
    },
    {
     "data": {
      "application/vnd.jupyter.widget-view+json": {
       "model_id": "9cfba918d08947a686b21ebf569ae544",
       "version_major": 2,
       "version_minor": 0
      },
      "text/plain": [
       "Epoch 2/30 [Train]:   0%|          | 0/102 [00:00<?, ?it/s]"
      ]
     },
     "metadata": {},
     "output_type": "display_data"
    },
    {
     "data": {
      "application/vnd.jupyter.widget-view+json": {
       "model_id": "d06f6e9762f74f08b62af3a8bd5c46af",
       "version_major": 2,
       "version_minor": 0
      },
      "text/plain": [
       "Epoch 2/30 [Validate]:   0%|          | 0/22 [00:00<?, ?it/s]"
      ]
     },
     "metadata": {},
     "output_type": "display_data"
    },
    {
     "name": "stdout",
     "output_type": "stream",
     "text": [
      "Epoch 2/30 => Train Loss: 0.2027, Train Acc: 0.9240 | Val Loss: 0.1160, Val Acc: 0.9625\n",
      "Validation accuracy improved (0.8905 --> 0.9625). Saving model...\n"
     ]
    },
    {
     "data": {
      "application/vnd.jupyter.widget-view+json": {
       "model_id": "2e1cb6868b8949208b2d96186462ca23",
       "version_major": 2,
       "version_minor": 0
      },
      "text/plain": [
       "Epoch 3/30 [Train]:   0%|          | 0/102 [00:00<?, ?it/s]"
      ]
     },
     "metadata": {},
     "output_type": "display_data"
    },
    {
     "data": {
      "application/vnd.jupyter.widget-view+json": {
       "model_id": "49a85c65cf65445a9afa0df8fde3e8d7",
       "version_major": 2,
       "version_minor": 0
      },
      "text/plain": [
       "Epoch 3/30 [Validate]:   0%|          | 0/22 [00:00<?, ?it/s]"
      ]
     },
     "metadata": {},
     "output_type": "display_data"
    },
    {
     "name": "stdout",
     "output_type": "stream",
     "text": [
      "Epoch 3/30 => Train Loss: 0.1560, Train Acc: 0.9426 | Val Loss: 0.1269, Val Acc: 0.9481\n",
      "Validation accuracy did not improve for 1 epoch(s).\n"
     ]
    },
    {
     "data": {
      "application/vnd.jupyter.widget-view+json": {
       "model_id": "60c872c34c814b2f914660a3e5529deb",
       "version_major": 2,
       "version_minor": 0
      },
      "text/plain": [
       "Epoch 4/30 [Train]:   0%|          | 0/102 [00:00<?, ?it/s]"
      ]
     },
     "metadata": {},
     "output_type": "display_data"
    },
    {
     "data": {
      "application/vnd.jupyter.widget-view+json": {
       "model_id": "18f972a70e52461d9e8fa8afcc15e328",
       "version_major": 2,
       "version_minor": 0
      },
      "text/plain": [
       "Epoch 4/30 [Validate]:   0%|          | 0/22 [00:00<?, ?it/s]"
      ]
     },
     "metadata": {},
     "output_type": "display_data"
    },
    {
     "name": "stdout",
     "output_type": "stream",
     "text": [
      "Epoch 4/30 => Train Loss: 0.1322, Train Acc: 0.9524 | Val Loss: 0.0580, Val Acc: 0.9827\n",
      "Validation accuracy improved (0.9625 --> 0.9827). Saving model...\n"
     ]
    },
    {
     "data": {
      "application/vnd.jupyter.widget-view+json": {
       "model_id": "f954aa379cfb451f87ba4b747c9853fb",
       "version_major": 2,
       "version_minor": 0
      },
      "text/plain": [
       "Epoch 5/30 [Train]:   0%|          | 0/102 [00:00<?, ?it/s]"
      ]
     },
     "metadata": {},
     "output_type": "display_data"
    },
    {
     "data": {
      "application/vnd.jupyter.widget-view+json": {
       "model_id": "ba51abf1af3d4ce8a9cac3bd2f973bed",
       "version_major": 2,
       "version_minor": 0
      },
      "text/plain": [
       "Epoch 5/30 [Validate]:   0%|          | 0/22 [00:00<?, ?it/s]"
      ]
     },
     "metadata": {},
     "output_type": "display_data"
    },
    {
     "name": "stdout",
     "output_type": "stream",
     "text": [
      "Epoch 5/30 => Train Loss: 0.1302, Train Acc: 0.9552 | Val Loss: 0.0783, Val Acc: 0.9683\n",
      "Validation accuracy did not improve for 1 epoch(s).\n"
     ]
    },
    {
     "data": {
      "application/vnd.jupyter.widget-view+json": {
       "model_id": "5c47d9f2fcaf48a3991366d50f505e54",
       "version_major": 2,
       "version_minor": 0
      },
      "text/plain": [
       "Epoch 6/30 [Train]:   0%|          | 0/102 [00:00<?, ?it/s]"
      ]
     },
     "metadata": {},
     "output_type": "display_data"
    },
    {
     "data": {
      "application/vnd.jupyter.widget-view+json": {
       "model_id": "cb9d9acb9e91493a8bdd56f612c93f32",
       "version_major": 2,
       "version_minor": 0
      },
      "text/plain": [
       "Epoch 6/30 [Validate]:   0%|          | 0/22 [00:00<?, ?it/s]"
      ]
     },
     "metadata": {},
     "output_type": "display_data"
    },
    {
     "name": "stdout",
     "output_type": "stream",
     "text": [
      "Epoch 6/30 => Train Loss: 0.0894, Train Acc: 0.9676 | Val Loss: 0.0513, Val Acc: 0.9798\n",
      "Validation accuracy did not improve for 2 epoch(s).\n"
     ]
    },
    {
     "data": {
      "application/vnd.jupyter.widget-view+json": {
       "model_id": "81e3faf79a0647e1b0f3e61f5ee5fef8",
       "version_major": 2,
       "version_minor": 0
      },
      "text/plain": [
       "Epoch 7/30 [Train]:   0%|          | 0/102 [00:00<?, ?it/s]"
      ]
     },
     "metadata": {},
     "output_type": "display_data"
    },
    {
     "data": {
      "application/vnd.jupyter.widget-view+json": {
       "model_id": "ebb7f990bdce49bb9fc66a5f0487bb03",
       "version_major": 2,
       "version_minor": 0
      },
      "text/plain": [
       "Epoch 7/30 [Validate]:   0%|          | 0/22 [00:00<?, ?it/s]"
      ]
     },
     "metadata": {},
     "output_type": "display_data"
    },
    {
     "name": "stdout",
     "output_type": "stream",
     "text": [
      "Epoch 7/30 => Train Loss: 0.0629, Train Acc: 0.9768 | Val Loss: 0.0748, Val Acc: 0.9755\n",
      "Validation accuracy did not improve for 3 epoch(s).\n"
     ]
    },
    {
     "data": {
      "application/vnd.jupyter.widget-view+json": {
       "model_id": "4f31514513b34366a2329703dfd9f97e",
       "version_major": 2,
       "version_minor": 0
      },
      "text/plain": [
       "Epoch 8/30 [Train]:   0%|          | 0/102 [00:00<?, ?it/s]"
      ]
     },
     "metadata": {},
     "output_type": "display_data"
    },
    {
     "data": {
      "application/vnd.jupyter.widget-view+json": {
       "model_id": "8392875853c04eaca8042818651fab2a",
       "version_major": 2,
       "version_minor": 0
      },
      "text/plain": [
       "Epoch 8/30 [Validate]:   0%|          | 0/22 [00:00<?, ?it/s]"
      ]
     },
     "metadata": {},
     "output_type": "display_data"
    },
    {
     "name": "stdout",
     "output_type": "stream",
     "text": [
      "Epoch 8/30 => Train Loss: 0.0701, Train Acc: 0.9741 | Val Loss: 0.0427, Val Acc: 0.9856\n",
      "Validation accuracy improved (0.9827 --> 0.9856). Saving model...\n"
     ]
    },
    {
     "data": {
      "application/vnd.jupyter.widget-view+json": {
       "model_id": "e77ecc71359b4944b0e6d04cef4fd291",
       "version_major": 2,
       "version_minor": 0
      },
      "text/plain": [
       "Epoch 9/30 [Train]:   0%|          | 0/102 [00:00<?, ?it/s]"
      ]
     },
     "metadata": {},
     "output_type": "display_data"
    },
    {
     "data": {
      "application/vnd.jupyter.widget-view+json": {
       "model_id": "eb1bb4e2e28a42e8a7765480df88b9c9",
       "version_major": 2,
       "version_minor": 0
      },
      "text/plain": [
       "Epoch 9/30 [Validate]:   0%|          | 0/22 [00:00<?, ?it/s]"
      ]
     },
     "metadata": {},
     "output_type": "display_data"
    },
    {
     "name": "stdout",
     "output_type": "stream",
     "text": [
      "Epoch 9/30 => Train Loss: 0.0566, Train Acc: 0.9793 | Val Loss: 0.0728, Val Acc: 0.9726\n",
      "Validation accuracy did not improve for 1 epoch(s).\n"
     ]
    },
    {
     "data": {
      "application/vnd.jupyter.widget-view+json": {
       "model_id": "b459242b749843649c8e5707a02750fc",
       "version_major": 2,
       "version_minor": 0
      },
      "text/plain": [
       "Epoch 10/30 [Train]:   0%|          | 0/102 [00:00<?, ?it/s]"
      ]
     },
     "metadata": {},
     "output_type": "display_data"
    },
    {
     "data": {
      "application/vnd.jupyter.widget-view+json": {
       "model_id": "c589d110c89f489897a8c7e3a833d1d9",
       "version_major": 2,
       "version_minor": 0
      },
      "text/plain": [
       "Epoch 10/30 [Validate]:   0%|          | 0/22 [00:00<?, ?it/s]"
      ]
     },
     "metadata": {},
     "output_type": "display_data"
    },
    {
     "name": "stdout",
     "output_type": "stream",
     "text": [
      "Epoch 10/30 => Train Loss: 0.0430, Train Acc: 0.9861 | Val Loss: 0.0203, Val Acc: 0.9928\n",
      "Validation accuracy improved (0.9856 --> 0.9928). Saving model...\n"
     ]
    },
    {
     "data": {
      "application/vnd.jupyter.widget-view+json": {
       "model_id": "36d54dc18d934f7ebc71e0eea55173c6",
       "version_major": 2,
       "version_minor": 0
      },
      "text/plain": [
       "Epoch 11/30 [Train]:   0%|          | 0/102 [00:00<?, ?it/s]"
      ]
     },
     "metadata": {},
     "output_type": "display_data"
    },
    {
     "data": {
      "application/vnd.jupyter.widget-view+json": {
       "model_id": "a7c780ed92434636ac1872d623c22cb5",
       "version_major": 2,
       "version_minor": 0
      },
      "text/plain": [
       "Epoch 11/30 [Validate]:   0%|          | 0/22 [00:00<?, ?it/s]"
      ]
     },
     "metadata": {},
     "output_type": "display_data"
    },
    {
     "name": "stdout",
     "output_type": "stream",
     "text": [
      "Epoch 11/30 => Train Loss: 0.0454, Train Acc: 0.9846 | Val Loss: 0.2857, Val Acc: 0.8862\n",
      "Validation accuracy did not improve for 1 epoch(s).\n"
     ]
    },
    {
     "data": {
      "application/vnd.jupyter.widget-view+json": {
       "model_id": "cb7f1152a69a4894b362b0dc330842d7",
       "version_major": 2,
       "version_minor": 0
      },
      "text/plain": [
       "Epoch 12/30 [Train]:   0%|          | 0/102 [00:00<?, ?it/s]"
      ]
     },
     "metadata": {},
     "output_type": "display_data"
    },
    {
     "data": {
      "application/vnd.jupyter.widget-view+json": {
       "model_id": "860d42a13daa44c2a5b6b42372d0bb54",
       "version_major": 2,
       "version_minor": 0
      },
      "text/plain": [
       "Epoch 12/30 [Validate]:   0%|          | 0/22 [00:00<?, ?it/s]"
      ]
     },
     "metadata": {},
     "output_type": "display_data"
    },
    {
     "name": "stdout",
     "output_type": "stream",
     "text": [
      "Epoch 12/30 => Train Loss: 0.0545, Train Acc: 0.9775 | Val Loss: 0.1998, Val Acc: 0.9193\n",
      "Validation accuracy did not improve for 2 epoch(s).\n"
     ]
    },
    {
     "data": {
      "application/vnd.jupyter.widget-view+json": {
       "model_id": "9e7d700093e84d359cc65b75d422d6a3",
       "version_major": 2,
       "version_minor": 0
      },
      "text/plain": [
       "Epoch 13/30 [Train]:   0%|          | 0/102 [00:00<?, ?it/s]"
      ]
     },
     "metadata": {},
     "output_type": "display_data"
    },
    {
     "data": {
      "application/vnd.jupyter.widget-view+json": {
       "model_id": "c974cb75c69e404ba0bab1d84479e473",
       "version_major": 2,
       "version_minor": 0
      },
      "text/plain": [
       "Epoch 13/30 [Validate]:   0%|          | 0/22 [00:00<?, ?it/s]"
      ]
     },
     "metadata": {},
     "output_type": "display_data"
    },
    {
     "name": "stdout",
     "output_type": "stream",
     "text": [
      "Epoch 13/30 => Train Loss: 0.0476, Train Acc: 0.9830 | Val Loss: 0.1048, Val Acc: 0.9640\n",
      "Validation accuracy did not improve for 3 epoch(s).\n"
     ]
    },
    {
     "data": {
      "application/vnd.jupyter.widget-view+json": {
       "model_id": "0891fef8c3114e049fdcf50991778f27",
       "version_major": 2,
       "version_minor": 0
      },
      "text/plain": [
       "Epoch 14/30 [Train]:   0%|          | 0/102 [00:00<?, ?it/s]"
      ]
     },
     "metadata": {},
     "output_type": "display_data"
    },
    {
     "data": {
      "application/vnd.jupyter.widget-view+json": {
       "model_id": "6b9789a08c6740de8d35aa174d251942",
       "version_major": 2,
       "version_minor": 0
      },
      "text/plain": [
       "Epoch 14/30 [Validate]:   0%|          | 0/22 [00:00<?, ?it/s]"
      ]
     },
     "metadata": {},
     "output_type": "display_data"
    },
    {
     "name": "stdout",
     "output_type": "stream",
     "text": [
      "Epoch 14/30 => Train Loss: 0.0416, Train Acc: 0.9864 | Val Loss: 0.0297, Val Acc: 0.9899\n",
      "Validation accuracy did not improve for 4 epoch(s).\n"
     ]
    },
    {
     "data": {
      "application/vnd.jupyter.widget-view+json": {
       "model_id": "9e3a2a8a946c42dbb1d3a3e6dfee804c",
       "version_major": 2,
       "version_minor": 0
      },
      "text/plain": [
       "Epoch 15/30 [Train]:   0%|          | 0/102 [00:00<?, ?it/s]"
      ]
     },
     "metadata": {},
     "output_type": "display_data"
    },
    {
     "data": {
      "application/vnd.jupyter.widget-view+json": {
       "model_id": "73b64cf09e874ab3805114e3858a10c1",
       "version_major": 2,
       "version_minor": 0
      },
      "text/plain": [
       "Epoch 15/30 [Validate]:   0%|          | 0/22 [00:00<?, ?it/s]"
      ]
     },
     "metadata": {},
     "output_type": "display_data"
    },
    {
     "name": "stdout",
     "output_type": "stream",
     "text": [
      "Epoch 15/30 => Train Loss: 0.0319, Train Acc: 0.9883 | Val Loss: 0.1856, Val Acc: 0.9251\n",
      "Validation accuracy did not improve for 5 epoch(s).\n",
      "Early stopping triggered after 15 epochs.\n",
      "Loading best model weights for final evaluation.\n"
     ]
    }
   ],
   "source": [
    "best_val_accuracy = 0.0\n",
    "epochs_no_improve = 0\n",
    "best_model_weights = None # Store best weights here\n",
    "history = {'train_loss': [], 'train_acc': [], 'val_loss': [], 'val_acc': []}\n",
    "\n",
    "for epoch in range(EPOCHS):\n",
    "    # --- Training Phase ---\n",
    "    model.train() # Set model to training mode (enables dropout, batch norm updates)\n",
    "    running_loss = 0.0\n",
    "    correct_predictions = 0\n",
    "    total_samples = 0\n",
    "\n",
    "    train_pbar = tqdm(train_loader, desc=f\"Epoch {epoch+1}/{EPOCHS} [Train]\", leave=False)\n",
    "    for inputs, labels in train_pbar:\n",
    "        inputs, labels = inputs.to(device), labels.to(device).unsqueeze(1) # Add dimension for BCEWithLogitsLoss\n",
    "\n",
    "        # Zero the parameter gradients\n",
    "        optimizer.zero_grad()\n",
    "\n",
    "        # Forward pass\n",
    "        outputs = model(inputs)\n",
    "        loss = criterion(outputs, labels)\n",
    "\n",
    "        # Backward pass and optimize\n",
    "        loss.backward()\n",
    "        optimizer.step()\n",
    "\n",
    "        # Statistics\n",
    "        running_loss += loss.item() * inputs.size(0)\n",
    "        # Apply sigmoid and threshold for accuracy calculation\n",
    "        preds = torch.sigmoid(outputs) > 0.5\n",
    "        correct_predictions += (preds == labels.byte()).sum().item() # Use byte for bool comparison\n",
    "        total_samples += labels.size(0)\n",
    "\n",
    "        train_pbar.set_postfix({'loss': loss.item()})\n",
    "\n",
    "    epoch_train_loss = running_loss / total_samples\n",
    "    epoch_train_acc = correct_predictions / total_samples\n",
    "    history['train_loss'].append(epoch_train_loss)\n",
    "    history['train_acc'].append(epoch_train_acc)\n",
    "\n",
    "    # --- Validation Phase ---\n",
    "    model.eval() # Set model to evaluation mode (disables dropout, uses running stats for batch norm)\n",
    "    running_val_loss = 0.0\n",
    "    correct_val_predictions = 0\n",
    "    total_val_samples = 0\n",
    "\n",
    "    val_pbar = tqdm(val_loader, desc=f\"Epoch {epoch+1}/{EPOCHS} [Validate]\", leave=False)\n",
    "    with torch.no_grad(): # Disable gradient calculations\n",
    "        for inputs, labels in val_pbar:\n",
    "            inputs, labels = inputs.to(device), labels.to(device).unsqueeze(1)\n",
    "\n",
    "            outputs = model(inputs)\n",
    "            loss = criterion(outputs, labels)\n",
    "\n",
    "            running_val_loss += loss.item() * inputs.size(0)\n",
    "            preds = torch.sigmoid(outputs) > 0.5\n",
    "            correct_val_predictions += (preds == labels.byte()).sum().item()\n",
    "            total_val_samples += labels.size(0)\n",
    "            val_pbar.set_postfix({'val_loss': loss.item()})\n",
    "\n",
    "    epoch_val_loss = running_val_loss / total_val_samples\n",
    "    epoch_val_acc = correct_val_predictions / total_val_samples\n",
    "    history['val_loss'].append(epoch_val_loss)\n",
    "    history['val_acc'].append(epoch_val_acc)\n",
    "\n",
    "    print(f\"Epoch {epoch+1}/{EPOCHS} => \"\n",
    "          f\"Train Loss: {epoch_train_loss:.4f}, Train Acc: {epoch_train_acc:.4f} | \"\n",
    "          f\"Val Loss: {epoch_val_loss:.4f}, Val Acc: {epoch_val_acc:.4f}\")\n",
    "\n",
    "    # --- Model Checkpoint & Early Stopping ---\n",
    "    if epoch_val_acc > best_val_accuracy:\n",
    "        print(f\"Validation accuracy improved ({best_val_accuracy:.4f} --> {epoch_val_acc:.4f}). Saving model...\")\n",
    "        best_val_accuracy = epoch_val_acc\n",
    "        # Save the best model state\n",
    "        best_model_weights = copy.deepcopy(model.state_dict())\n",
    "        torch.save(best_model_weights, 'best_pepper_classifier_pytorch.pth')\n",
    "        epochs_no_improve = 0\n",
    "    else:\n",
    "        epochs_no_improve += 1\n",
    "        print(f\"Validation accuracy did not improve for {epochs_no_improve} epoch(s).\")\n",
    "\n",
    "    if epochs_no_improve >= PATIENCE:\n",
    "        print(f\"Early stopping triggered after {epoch + 1} epochs.\")\n",
    "        break\n",
    "    \n",
    "if best_model_weights:\n",
    "    print(\"Loading best model weights for final evaluation.\")\n",
    "    model.load_state_dict(best_model_weights)\n",
    "else:\n",
    "     print(\"Warning: No best model weights saved (perhaps training stopped early or didn't improve). Using last epoch weights.\")"
   ]
  },
  {
   "cell_type": "code",
   "execution_count": 15,
   "metadata": {},
   "outputs": [
    {
     "data": {
      "image/png": "[encoded data removed]",
      "text/plain": [
       "<Figure size 1200x500 with 2 Axes>"
      ]
     },
     "metadata": {},
     "output_type": "display_data"
    }
   ],
   "source": [
    "epochs_range = range(1, len(history['train_loss']) + 1)\n",
    "\n",
    "plt.figure(figsize=(12, 5))\n",
    "\n",
    "plt.subplot(1, 2, 1)\n",
    "plt.plot(epochs_range, history['train_acc'], label='Training Accuracy')\n",
    "plt.plot(epochs_range, history['val_acc'], label='Validation Accuracy')\n",
    "plt.legend(loc='lower right')\n",
    "plt.title('Training and Validation Accuracy')\n",
    "plt.xlabel('Epoch')\n",
    "plt.ylabel('Accuracy')\n",
    "\n",
    "\n",
    "plt.subplot(1, 2, 2)\n",
    "plt.plot(epochs_range, history['train_loss'], label='Training Loss')\n",
    "plt.plot(epochs_range, history['val_loss'], label='Validation Loss')\n",
    "plt.legend(loc='upper right')\n",
    "plt.title('Training and Validation Loss')\n",
    "plt.xlabel('Epoch')\n",
    "plt.ylabel('Loss')\n",
    "\n",
    "plt.tight_layout()\n",
    "plt.show()"
   ]
  },
  {
   "cell_type": "code",
   "execution_count": 16,
   "metadata": {},
   "outputs": [
    {
     "data": {
      "application/vnd.jupyter.widget-view+json": {
       "model_id": "ef13c108aa8d45cbaad7f1c14b185512",
       "version_major": 2,
       "version_minor": 0
      },
      "text/plain": [
       "Testing:   0%|          | 0/22 [00:00<?, ?it/s]"
      ]
     },
     "metadata": {},
     "output_type": "display_data"
    },
    {
     "name": "stdout",
     "output_type": "stream",
     "text": [
      "\n",
      "Test Loss: 0.0166\n",
      "Test Accuracy: 0.9942\n"
     ]
    }
   ],
   "source": [
    "model.eval()\n",
    "\n",
    "all_preds = []\n",
    "all_labels = []\n",
    "test_loss = 0.0\n",
    "total_test_samples = 0\n",
    "\n",
    "with torch.no_grad():\n",
    "    for inputs, labels in tqdm(test_loader, desc=\"Testing\"):\n",
    "        inputs, labels = inputs.to(device), labels.to(device).unsqueeze(1)\n",
    "\n",
    "        outputs = model(inputs)\n",
    "        loss = criterion(outputs, labels) # Calculate loss on test set as well\n",
    "\n",
    "        test_loss += loss.item() * inputs.size(0)\n",
    "        total_test_samples += labels.size(0)\n",
    "\n",
    "        # Get predictions\n",
    "        preds = torch.sigmoid(outputs) > 0.5\n",
    "        all_preds.extend(preds.cpu().numpy()) # Move predictions to CPU and store\n",
    "        all_labels.extend(labels.cpu().numpy()) # Move labels to CPU and store\n",
    "\n",
    "final_test_loss = test_loss / total_test_samples\n",
    "# Flatten lists for scikit-learn metrics\n",
    "all_preds = np.array(all_preds).flatten().astype(int)\n",
    "all_labels = np.array(all_labels).flatten().astype(int)\n",
    "\n",
    "final_test_accuracy = accuracy_score(all_labels, all_preds)\n",
    "\n",
    "print(f\"\\nTest Loss: {final_test_loss:.4f}\")\n",
    "print(f\"Test Accuracy: {final_test_accuracy:.4f}\")"
   ]
  },
  {
   "cell_type": "code",
   "execution_count": 17,
   "metadata": {},
   "outputs": [
    {
     "name": "stdout",
     "output_type": "stream",
     "text": [
      "\n",
      "Classification Report:\n",
      "              precision    recall  f1-score   support\n",
      "\n",
      "      potato       0.99      1.00      0.99       323\n",
      "        bell       1.00      0.99      0.99       372\n",
      "\n",
      "    accuracy                           0.99       695\n",
      "   macro avg       0.99      0.99      0.99       695\n",
      "weighted avg       0.99      0.99      0.99       695\n",
      "\n",
      "\n",
      "Confusion Matrix:\n",
      "[[323   0]\n",
      " [  4 368]]\n"
     ]
    },
    {
     "data": {
      "image/png": "[encoded data removed]",
      "text/plain": [
       "<Figure size 600x500 with 2 Axes>"
      ]
     },
     "metadata": {},
     "output_type": "display_data"
    }
   ],
   "source": [
    "class_labels = list(label_map.keys())\n",
    "\n",
    "print(\"\\nClassification Report:\")\n",
    "print(classification_report(all_labels, all_preds, target_names=class_labels))\n",
    "\n",
    "print(\"\\nConfusion Matrix:\")\n",
    "cm = confusion_matrix(all_labels, all_preds)\n",
    "print(cm)\n",
    "\n",
    "# Plot Confusion Matrix\n",
    "plt.figure(figsize=(6, 5))\n",
    "sns.heatmap(cm, annot=True, fmt='d', cmap='Blues', xticklabels=class_labels, yticklabels=class_labels)\n",
    "plt.xlabel('Predicted Label')\n",
    "plt.ylabel('True Label')\n",
    "plt.title('Confusion Matrix')\n",
    "plt.show()"
   ]
  }
 ],
 "metadata": {
  "kernelspec": {
   "display_name": "Python 3",
   "language": "python",
   "name": "python3"
  },
  "language_info": {
   "codemirror_mode": {
    "name": "ipython",
    "version": 3
   },
   "file_extension": ".py",
   "mimetype": "text/x-python",
   "name": "python",
   "nbconvert_exporter": "python",
   "pygments_lexer": "ipython3",
   "version": "3.10.12"
  }
 },
 "nbformat": 4,
 "nbformat_minor": 2
}
