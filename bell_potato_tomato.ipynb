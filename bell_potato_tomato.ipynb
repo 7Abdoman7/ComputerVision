{
 "cells": [
  {
   "cell_type": "code",
   "execution_count": 34,
   "metadata": {},
   "outputs": [],
   "source": [
    "import os\n",
    "import pandas as pd\n",
    "import numpy as np\n",
    "import matplotlib.pyplot as plt\n",
    "import seaborn as sns\n",
    "from PIL import Image as PILImage\n",
    "import cv2 \n",
    "from sklearn.model_selection import train_test_split\n",
    "from sklearn.metrics import classification_report, confusion_matrix, accuracy_score\n",
    "\n",
    "import torch\n",
    "import torch.nn as nn\n",
    "import torch.optim as optim\n",
    "from torch.utils.data import Dataset, DataLoader\n",
    "import torchvision.transforms as transforms\n",
    "from torchvision.datasets import ImageFolder # Can be an alternative if folders are structured correctly\n",
    "from tqdm.notebook import tqdm # For progress bars (optional, install if needed)\n",
    "import copy # To save best model weights"
   ]
  },
  {
   "cell_type": "code",
   "execution_count": 35,
   "metadata": {},
   "outputs": [],
   "source": [
    "folder_path_potato_early = \"/home/abdelrahmanelsayed/PC/My_Projects/CV/PlantVillage/Potato___Early_blight\"\n",
    "folder_path_potato_late = \"/home/abdelrahmanelsayed/PC/My_Projects/CV/PlantVillage/Potato___Late_blight\"\n",
    "folder_path_potato_healthy = \"/home/abdelrahmanelsayed/PC/My_Projects/CV/PlantVillage/Potato___healthy\"\n",
    "\n",
    "folder_path_bell_healthy = \"/home/abdelrahmanelsayed/PC/My_Projects/CV/PlantVillage/Pepper__bell___healthy\"\n",
    "folder_path_bell_Bacterial_spot = \"/home/abdelrahmanelsayed/PC/My_Projects/CV/PlantVillage/Pepper__bell___Bacterial_spot\"\n",
    "\n",
    "folder_path_tomato_Target = \"/home/abdelrahmanelsayed/PC/My_Projects/CV/PlantVillage/Tomato__Target_Spot\"\n",
    "folder_path_tomato_mosaic_virus = \"/home/abdelrahmanelsayed/PC/My_Projects/CV/PlantVillage/Tomato__Tomato_mosaic_virus\"\n",
    "folder_path_tomato_Curl_Virus = \"/home/abdelrahmanelsayed/PC/My_Projects/CV/PlantVillage/Tomato__Tomato_YellowLeaf__Curl_Virus\"\n",
    "folder_path_tomato_Bacterial_spot = \"/home/abdelrahmanelsayed/PC/My_Projects/CV/PlantVillage/Tomato_Bacterial_spot\"\n",
    "folder_path_tomato_Early = \"/home/abdelrahmanelsayed/PC/My_Projects/CV/PlantVillage/Tomato_Early_blight\"\n",
    "folder_path_tomato_Late = \"/home/abdelrahmanelsayed/PC/My_Projects/CV/PlantVillage/Tomato_Late_blight\"\n",
    "folder_path_tomato_leaf_mold = \"/home/abdelrahmanelsayed/PC/My_Projects/CV/PlantVillage/Tomato_Leaf_Mold\"\n",
    "folder_path_tomato_Septoria_leaf = \"/home/abdelrahmanelsayed/PC/My_Projects/CV/PlantVillage/Tomato_Septoria_leaf_spot\"\n",
    "folder_path_tomato_Spider_mites = \"/home/abdelrahmanelsayed/PC/My_Projects/CV/PlantVillage/Tomato_Spider_mites_Two_spotted_spider_mite\"\n",
    "folder_path_tomato_healthy = \"/home/abdelrahmanelsayed/PC/My_Projects/CV/PlantVillage/Tomato_healthy\"\n",
    "\n",
    "image_files_potato_early = [os.path.join(folder_path_potato_early, file) for file in os.listdir(folder_path_potato_early) if file.lower().endswith(('png', 'jpg', 'jpeg', 'bmp', 'gif'))]\n",
    "image_files_potato_late = [os.path.join(folder_path_potato_late, file) for file in os.listdir(folder_path_potato_late) if file.lower().endswith(('png', 'jpg', 'jpeg', 'bmp', 'gif'))]\n",
    "image_files_potato_healthy = [os.path.join(folder_path_potato_healthy, file) for file in os.listdir(folder_path_potato_healthy) if file.lower().endswith(('png', 'jpg', 'jpeg', 'bmp', 'gif'))]\n",
    "image_files_bell_healthy = [os.path.join(folder_path_bell_healthy, file) for file in os.listdir(folder_path_bell_healthy) if file.lower().endswith(('png', 'jpg', 'jpeg', 'bmp', 'gif'))]\n",
    "image_files_bell_Bacterial_spot = [os.path.join(folder_path_bell_Bacterial_spot, file) for file in os.listdir(folder_path_bell_Bacterial_spot) if file.lower().endswith(('png', 'jpg', 'jpeg', 'bmp', 'gif'))]\n",
    "image_files_tomato_Target = [os.path.join(folder_path_tomato_Target, file) for file in os.listdir(folder_path_tomato_Target) if file.lower().endswith(('png', 'jpg', 'jpeg', 'bmp', 'gif'))]\n",
    "image_files_tomato_mosaic_virus = [os.path.join(folder_path_tomato_mosaic_virus, file) for file in os.listdir(folder_path_tomato_mosaic_virus) if file.lower().endswith(('png', 'jpg', 'jpeg', 'bmp', 'gif'))]\n",
    "image_files_tomato_Curl_Virus = [os.path.join(folder_path_tomato_Curl_Virus, file) for file in os.listdir(folder_path_tomato_Curl_Virus) if file.lower().endswith(('png', 'jpg', 'jpeg', 'bmp', 'gif'))]\n",
    "image_files_tomato_Bacterial_spot = [os.path.join(folder_path_tomato_Bacterial_spot, file) for file in os.listdir(folder_path_tomato_Bacterial_spot) if file.lower().endswith(('png', 'jpg', 'jpeg', 'bmp', 'gif'))]\n",
    "image_files_tomato_Early = [os.path.join(folder_path_tomato_Early, file) for file in os.listdir(folder_path_tomato_Early) if file.lower().endswith(('png', 'jpg', 'jpeg', 'bmp', 'gif'))]\n",
    "image_files_tomato_Late = [os.path.join(folder_path_tomato_Late, file) for file in os.listdir(folder_path_tomato_Late) if file.lower().endswith(('png', 'jpg', 'jpeg', 'bmp', 'gif'))]\n",
    "image_files_tomato_leaf_mold = [os.path.join(folder_path_tomato_leaf_mold, file) for file in os.listdir(folder_path_tomato_leaf_mold) if file.lower().endswith(('png', 'jpg', 'jpeg', 'bmp', 'gif'))]\n",
    "image_files_tomato_Septoria_leaf = [os.path.join(folder_path_tomato_Septoria_leaf, file) for file in os.listdir(folder_path_tomato_Septoria_leaf) if file.lower().endswith(('png', 'jpg', 'jpeg', 'bmp', 'gif'))]\n",
    "image_files_tomato_Spider_mites = [os.path.join(folder_path_tomato_Spider_mites, file) for file in os.listdir(folder_path_tomato_Spider_mites) if file.lower().endswith(('png', 'jpg', 'jpeg', 'bmp', 'gif'))]\n",
    "image_files_tomato_healthy = [os.path.join(folder_path_tomato_healthy, file) for file in os.listdir(folder_path_tomato_healthy) if file.lower().endswith(('png', 'jpg', 'jpeg', 'bmp', 'gif'))]\n",
    "\n",
    "# Combine all image files into a single list\n",
    "image_files_potato = image_files_potato_early + image_files_potato_late + image_files_potato_healthy\n",
    "image_files_bell = image_files_bell_healthy + image_files_bell_Bacterial_spot\n",
    "image_files_tomato = image_files_tomato_Target + image_files_tomato_mosaic_virus + image_files_tomato_Curl_Virus + image_files_tomato_Bacterial_spot + image_files_tomato_Early + image_files_tomato_Late + image_files_tomato_leaf_mold + image_files_tomato_Septoria_leaf + image_files_tomato_Spider_mites + image_files_tomato_healthy\n",
    "\n",
    "df_potato = pd.DataFrame(image_files_potato, columns=[\"File Path\"])\n",
    "df_bell = pd.DataFrame(image_files_bell, columns=[\"File Path\"])\n",
    "df_tomato = pd.DataFrame(image_files_tomato, columns=[\"File Path\"])\n",
    "\n",
    "# Combine DataFrames\n",
    "data_potato = pd.concat([df_potato], ignore_index=True)\n",
    "data_bell = pd.concat([df_bell], ignore_index=True)\n",
    "data_tomato = pd.concat([df_tomato], ignore_index=True)\n",
    "\n",
    "# Add labels\n",
    "data_potato['Label'] = 'Potato'\n",
    "data_bell['Label'] = 'Bell'\n",
    "data_tomato['Label'] = 'Tomato'\n",
    "\n",
    "# Combine potato and bell data\n",
    "data = pd.concat([data_potato, data_bell, data_tomato], ignore_index=True)\n",
    "\n",
    "data['Label_Str'] = ['potato'] * len(df_potato) + ['bell'] * len(df_bell) + ['tomato'] * len(df_tomato)\n",
    "label_map = {'potato': 0, 'bell': 1, 'tomato': 2}\n",
    "data['Label'] = data['Label_Str'].map(label_map)\n",
    "data['Label'] = data['Label'].astype(int) \n",
    "data['File Path'] = data['File Path'].astype(str)\n",
    "\n",
    "# Shuffle the data\n",
    "data = data.sample(frac=1, random_state=42).reset_index(drop=True)"
   ]
  },
  {
   "cell_type": "code",
   "execution_count": 36,
   "metadata": {},
   "outputs": [
    {
     "name": "stdout",
     "output_type": "stream",
     "text": [
      "Combined DataFrame Head:\n",
      "                                           File Path  Label Label_Str\n",
      "0  /home/abdelrahmanelsayed/PC/My_Projects/CV/Pla...      1      bell\n",
      "1  /home/abdelrahmanelsayed/PC/My_Projects/CV/Pla...      2    tomato\n",
      "2  /home/abdelrahmanelsayed/PC/My_Projects/CV/Pla...      2    tomato\n",
      "3  /home/abdelrahmanelsayed/PC/My_Projects/CV/Pla...      0    potato\n",
      "4  /home/abdelrahmanelsayed/PC/My_Projects/CV/Pla...      2    tomato\n",
      "\n",
      "DataFrame Info:\n",
      "<class 'pandas.core.frame.DataFrame'>\n",
      "RangeIndex: 20242 entries, 0 to 20241\n",
      "Data columns (total 3 columns):\n",
      " #   Column     Non-Null Count  Dtype \n",
      "---  ------     --------------  ----- \n",
      " 0   File Path  20242 non-null  object\n",
      " 1   Label      20242 non-null  int64 \n",
      " 2   Label_Str  20242 non-null  object\n",
      "dtypes: int64(1), object(2)\n",
      "memory usage: 474.5+ KB\n",
      "None\n",
      "\n",
      "Value Counts for Labels:\n",
      "Label_Str\n",
      "tomato    15615\n",
      "bell       2475\n",
      "potato     2152\n",
      "Name: count, dtype: int64\n"
     ]
    }
   ],
   "source": [
    "print(\"Combined DataFrame Head:\")\n",
    "print(data.head())\n",
    "print(\"\\nDataFrame Info:\")\n",
    "print(data.info())\n",
    "print(\"\\nValue Counts for Labels:\")\n",
    "print(data['Label_Str'].value_counts())"
   ]
  },
  {
   "cell_type": "code",
   "execution_count": 37,
   "metadata": {},
   "outputs": [
    {
     "name": "stdout",
     "output_type": "stream",
     "text": [
      "\n",
      "Image Dimension Statistics:\n",
      "        Height    Width  Channels\n",
      "count  20242.0  20242.0   20242.0\n",
      "mean     256.0    256.0       3.0\n",
      "std        0.0      0.0       0.0\n",
      "min      256.0    256.0       3.0\n",
      "25%      256.0    256.0       3.0\n",
      "50%      256.0    256.0       3.0\n",
      "75%      256.0    256.0       3.0\n",
      "max      256.0    256.0       3.0\n",
      "\n",
      "Unique Image Dimensions (Height, Width): [[256 256]]\n",
      "\n",
      "All images have the same dimensions.\n",
      "\n",
      "Unique Channel Counts:\n",
      "Channels\n",
      "3    20242\n",
      "Name: count, dtype: int64\n"
     ]
    },
    {
     "data": {
      "image/png": "[encoded data removed]",
      "text/plain": [
       "<Figure size 600x400 with 1 Axes>"
      ]
     },
     "metadata": {},
     "output_type": "display_data"
    },
    {
     "name": "stdout",
     "output_type": "stream",
     "text": [
      "Label_Str\n",
      "tomato    15615\n",
      "bell       2475\n",
      "potato     2152\n",
      "Name: count, dtype: int64\n"
     ]
    }
   ],
   "source": [
    "image_dims = []\n",
    "error_files = []\n",
    "for file_path in data['File Path']:\n",
    "    try:\n",
    "        img = cv2.imread(file_path)\n",
    "        if img is not None:\n",
    "            image_dims.append(img.shape)\n",
    "        else:\n",
    "            print(f\"Warning: Could not read image {file_path} with OpenCV. Skipping.\")\n",
    "            error_files.append(file_path)\n",
    "    except Exception as e:\n",
    "        print(f\"Error reading image {file_path}: {e}\")\n",
    "        error_files.append(file_path)\n",
    "\n",
    "if error_files:\n",
    "    print(f\"\\nRemoving {len(error_files)} files that could not be read.\")\n",
    "    data = data[~data['File Path'].isin(error_files)].reset_index(drop=True)\n",
    "\n",
    "dims_df = pd.DataFrame(image_dims, columns=['Height', 'Width', 'Channels'])\n",
    "print(\"\\nImage Dimension Statistics:\")\n",
    "print(dims_df.describe())\n",
    "unique_dims = dims_df[['Height', 'Width']].drop_duplicates().values\n",
    "print(\"\\nUnique Image Dimensions (Height, Width):\", unique_dims)\n",
    "if len(unique_dims) > 1:\n",
    "    print(\"\\nWarning: Images have varying dimensions. Resizing will be necessary.\")\n",
    "else:\n",
    "    print(\"\\nAll images have the same dimensions.\")\n",
    "print(\"\\nUnique Channel Counts:\")\n",
    "print(dims_df['Channels'].value_counts())\n",
    "if (dims_df['Channels'] != 3).any():\n",
    "     print(\"Warning: Not all images are 3-channel (RGB). Check/convert non-RGB images.\")\n",
    "\n",
    "plt.figure(figsize=(6, 4))\n",
    "sns.countplot(x='Label_Str', data=data)\n",
    "plt.title('Number of Images per Class')\n",
    "plt.show()\n",
    "print(data['Label_Str'].value_counts())"
   ]
  },
  {
   "cell_type": "code",
   "execution_count": 38,
   "metadata": {},
   "outputs": [
    {
     "name": "stdout",
     "output_type": "stream",
     "text": [
      "Training samples: 14169\n",
      "Validation samples: 3036\n",
      "Test samples: 3037\n"
     ]
    }
   ],
   "source": [
    "train_df, temp_df = train_test_split(\n",
    "    data, test_size=0.30, random_state=42, stratify=data['Label'])\n",
    "\n",
    "val_df, test_df = train_test_split(\n",
    "    temp_df, test_size=0.50, random_state=42, stratify=temp_df['Label'])\n",
    "\n",
    "print(f\"Training samples: {len(train_df)}\")\n",
    "print(f\"Validation samples: {len(val_df)}\")\n",
    "print(f\"Test samples: {len(test_df)}\")"
   ]
  },
  {
   "cell_type": "code",
   "execution_count": 39,
   "metadata": {},
   "outputs": [],
   "source": [
    "class PlantDataset(Dataset):\n",
    "    def __init__(self, dataframe, transform=None):\n",
    "        \"\"\"\n",
    "        Args:\n",
    "            dataframe (pd.DataFrame): DataFrame with 'File Path' and 'Label' columns.\n",
    "            transform (callable, optional): Optional transform to be applied on a sample.\n",
    "        \"\"\"\n",
    "        self.dataframe = dataframe\n",
    "        self.transform = transform\n",
    "\n",
    "    def __len__(self):\n",
    "        return len(self.dataframe)\n",
    "\n",
    "    def __getitem__(self, idx):\n",
    "        if torch.is_tensor(idx):\n",
    "            idx = idx.tolist()\n",
    "\n",
    "        img_path = self.dataframe.iloc[idx]['File Path']\n",
    "        try:\n",
    "            # Use PIL for compatibility with torchvision transforms\n",
    "            image = PILImage.open(img_path).convert('RGB') # Ensure 3 channels\n",
    "        except Exception as e:\n",
    "            print(f\"Error loading image {img_path}: {e}. Returning None.\")\n",
    "            image = PILImage.open(img_path).convert('RGB')\n",
    "\n",
    "\n",
    "        label = self.dataframe.iloc[idx]['Label']\n",
    "        label = torch.tensor(label, dtype=torch.long)\n",
    "        \n",
    "        if self.transform:\n",
    "            image = self.transform(image)\n",
    "\n",
    "        return image, label "
   ]
  },
  {
   "cell_type": "code",
   "execution_count": 40,
   "metadata": {},
   "outputs": [],
   "source": [
    "IMG_WIDTH = 128\n",
    "IMG_HEIGHT = 128\n",
    "BATCH_SIZE = 32\n",
    "EPOCHS = 50\n",
    "LEARNING_RATE = 0.00001\n",
    "PATIENCE = 5 \n",
    "\n",
    "mean = [0.485, 0.456, 0.406]\n",
    "std = [0.229, 0.224, 0.225]"
   ]
  },
  {
   "cell_type": "code",
   "execution_count": 41,
   "metadata": {},
   "outputs": [],
   "source": [
    "train_transform = transforms.Compose([\n",
    "    transforms.Resize((IMG_HEIGHT, IMG_WIDTH)),\n",
    "    transforms.RandomRotation(30),\n",
    "    transforms.RandomResizedCrop((IMG_HEIGHT, IMG_WIDTH), scale=(0.8, 1.0)), \n",
    "    transforms.RandomHorizontalFlip(),\n",
    "    transforms.ToTensor(),\n",
    "    transforms.Normalize(mean=mean, std=std)\n",
    "])\n",
    "\n",
    "val_test_transform = transforms.Compose([\n",
    "    transforms.Resize((IMG_HEIGHT, IMG_WIDTH)),\n",
    "    transforms.ToTensor(),\n",
    "    transforms.Normalize(mean=mean, std=std)\n",
    "])"
   ]
  },
  {
   "cell_type": "code",
   "execution_count": 42,
   "metadata": {},
   "outputs": [],
   "source": [
    "train_dataset = PlantDataset(train_df, transform=train_transform)\n",
    "val_dataset = PlantDataset(val_df, transform=val_test_transform)\n",
    "test_dataset = PlantDataset(test_df, transform=val_test_transform)\n",
    "\n",
    "train_loader = DataLoader(train_dataset, batch_size=BATCH_SIZE, shuffle=True, num_workers=4, pin_memory=True)\n",
    "val_loader = DataLoader(val_dataset, batch_size=BATCH_SIZE, shuffle=False, num_workers=4, pin_memory=True)\n",
    "test_loader = DataLoader(test_dataset, batch_size=BATCH_SIZE, shuffle=False, num_workers=4, pin_memory=True)"
   ]
  },
  {
   "cell_type": "code",
   "execution_count": 43,
   "metadata": {},
   "outputs": [],
   "source": [
    "class SimpleCNN(nn.Module):\n",
    "    def __init__(self, num_classes=3):  # Updated to 3 classes\n",
    "        super(SimpleCNN, self).__init__()\n",
    "        self.conv_block1 = nn.Sequential(\n",
    "            nn.Conv2d(3, 32, kernel_size=3, padding=1), \n",
    "            nn.BatchNorm2d(32),\n",
    "            nn.ReLU(),\n",
    "            nn.MaxPool2d(kernel_size=2, stride=2) \n",
    "        )\n",
    "        self.conv_block2 = nn.Sequential(\n",
    "            nn.Conv2d(32, 64, kernel_size=3, padding=1),\n",
    "            nn.BatchNorm2d(64),\n",
    "            nn.ReLU(),\n",
    "            nn.MaxPool2d(kernel_size=2, stride=2)\n",
    "        )\n",
    "        self.conv_block3 = nn.Sequential(\n",
    "            nn.Conv2d(64, 128, kernel_size=3, padding=1),\n",
    "            nn.BatchNorm2d(128),\n",
    "            nn.ReLU(),\n",
    "            nn.MaxPool2d(kernel_size=2, stride=2) \n",
    "        )\n",
    "\n",
    "        flattened_size = 128 * (IMG_HEIGHT // 8) * (IMG_WIDTH // 8)\n",
    "\n",
    "        self.fc_block = nn.Sequential(\n",
    "            nn.Flatten(),\n",
    "            nn.Linear(flattened_size, 128),\n",
    "            nn.ReLU(),\n",
    "            nn.Dropout(0.5),\n",
    "            nn.Linear(128, num_classes)  # Updated to output 3 classes\n",
    "        )\n",
    "\n",
    "    def forward(self, x):\n",
    "        x = self.conv_block1(x)\n",
    "        x = self.conv_block2(x)\n",
    "        x = self.conv_block3(x)\n",
    "        x = self.fc_block(x)\n",
    "        return x"
   ]
  },
  {
   "cell_type": "code",
   "execution_count": 44,
   "metadata": {},
   "outputs": [
    {
     "name": "stdout",
     "output_type": "stream",
     "text": [
      "Using device: cuda\n"
     ]
    }
   ],
   "source": [
    "device = torch.device(\"cuda\" if torch.cuda.is_available() else \"cpu\")\n",
    "print(f\"Using device: {device}\")"
   ]
  },
  {
   "cell_type": "code",
   "execution_count": 45,
   "metadata": {},
   "outputs": [],
   "source": [
    "model = SimpleCNN(num_classes=3).to(device)\n",
    "\n",
    "criterion = nn.CrossEntropyLoss()\n",
    "optimizer = optim.Adam(model.parameters(), lr=LEARNING_RATE)"
   ]
  },
  {
   "cell_type": "code",
   "execution_count": 46,
   "metadata": {},
   "outputs": [
    {
     "data": {
      "application/vnd.jupyter.widget-view+json": {
       "model_id": "2b596905b0f84856a3c598f211877dde",
       "version_major": 2,
       "version_minor": 0
      },
      "text/plain": [
       "Epoch 1/50 [Train]:   0%|          | 0/443 [00:00<?, ?it/s]"
      ]
     },
     "metadata": {},
     "output_type": "display_data"
    },
    {
     "data": {
      "application/vnd.jupyter.widget-view+json": {
       "model_id": "f6b5ac12d4854e0aa755a21aeb775b24",
       "version_major": 2,
       "version_minor": 0
      },
      "text/plain": [
       "Epoch 1/50 [Validate]:   0%|          | 0/95 [00:00<?, ?it/s]"
      ]
     },
     "metadata": {},
     "output_type": "display_data"
    },
    {
     "name": "stdout",
     "output_type": "stream",
     "text": [
      "Epoch 1/50 => Train Loss: 0.4649, Train Acc: 0.8302 | Val Loss: 0.3332, Val Acc: 0.8709\n",
      "Validation accuracy improved (0.0000 --> 0.8709). Saving model...\n"
     ]
    },
    {
     "data": {
      "application/vnd.jupyter.widget-view+json": {
       "model_id": "8461f78d78674b438650a6506aa80327",
       "version_major": 2,
       "version_minor": 0
      },
      "text/plain": [
       "Epoch 2/50 [Train]:   0%|          | 0/443 [00:00<?, ?it/s]"
      ]
     },
     "metadata": {},
     "output_type": "display_data"
    },
    {
     "data": {
      "application/vnd.jupyter.widget-view+json": {
       "model_id": "5093c98d09d64b39b7fd350febcafc56",
       "version_major": 2,
       "version_minor": 0
      },
      "text/plain": [
       "Epoch 2/50 [Validate]:   0%|          | 0/95 [00:00<?, ?it/s]"
      ]
     },
     "metadata": {},
     "output_type": "display_data"
    },
    {
     "name": "stdout",
     "output_type": "stream",
     "text": [
      "Epoch 2/50 => Train Loss: 0.3350, Train Acc: 0.8777 | Val Loss: 0.3089, Val Acc: 0.8811\n",
      "Validation accuracy improved (0.8709 --> 0.8811). Saving model...\n"
     ]
    },
    {
     "data": {
      "application/vnd.jupyter.widget-view+json": {
       "model_id": "ea2d83a187c549fdb16d18f90728022f",
       "version_major": 2,
       "version_minor": 0
      },
      "text/plain": [
       "Epoch 3/50 [Train]:   0%|          | 0/443 [00:00<?, ?it/s]"
      ]
     },
     "metadata": {},
     "output_type": "display_data"
    },
    {
     "data": {
      "application/vnd.jupyter.widget-view+json": {
       "model_id": "1a7904a814d745f7883a7a1fcc34ab8b",
       "version_major": 2,
       "version_minor": 0
      },
      "text/plain": [
       "Epoch 3/50 [Validate]:   0%|          | 0/95 [00:00<?, ?it/s]"
      ]
     },
     "metadata": {},
     "output_type": "display_data"
    },
    {
     "name": "stdout",
     "output_type": "stream",
     "text": [
      "Epoch 3/50 => Train Loss: 0.2883, Train Acc: 0.8938 | Val Loss: 0.2287, Val Acc: 0.9081\n",
      "Validation accuracy improved (0.8811 --> 0.9081). Saving model...\n"
     ]
    },
    {
     "data": {
      "application/vnd.jupyter.widget-view+json": {
       "model_id": "c5ae4bba04cb45f5918d33b51f8bee64",
       "version_major": 2,
       "version_minor": 0
      },
      "text/plain": [
       "Epoch 4/50 [Train]:   0%|          | 0/443 [00:00<?, ?it/s]"
      ]
     },
     "metadata": {},
     "output_type": "display_data"
    },
    {
     "data": {
      "application/vnd.jupyter.widget-view+json": {
       "model_id": "e1bd31918b5541c6a38e4ce1af9d8bc9",
       "version_major": 2,
       "version_minor": 0
      },
      "text/plain": [
       "Epoch 4/50 [Validate]:   0%|          | 0/95 [00:00<?, ?it/s]"
      ]
     },
     "metadata": {},
     "output_type": "display_data"
    },
    {
     "name": "stdout",
     "output_type": "stream",
     "text": [
      "Epoch 4/50 => Train Loss: 0.2556, Train Acc: 0.9064 | Val Loss: 0.2086, Val Acc: 0.9190\n",
      "Validation accuracy improved (0.9081 --> 0.9190). Saving model...\n"
     ]
    },
    {
     "data": {
      "application/vnd.jupyter.widget-view+json": {
       "model_id": "d66fd9e830514b0e95cf872d43bd0d7e",
       "version_major": 2,
       "version_minor": 0
      },
      "text/plain": [
       "Epoch 5/50 [Train]:   0%|          | 0/443 [00:00<?, ?it/s]"
      ]
     },
     "metadata": {},
     "output_type": "display_data"
    },
    {
     "data": {
      "application/vnd.jupyter.widget-view+json": {
       "model_id": "d86b9c04eb4f49328c8ab8f6332fdbd3",
       "version_major": 2,
       "version_minor": 0
      },
      "text/plain": [
       "Epoch 5/50 [Validate]:   0%|          | 0/95 [00:00<?, ?it/s]"
      ]
     },
     "metadata": {},
     "output_type": "display_data"
    },
    {
     "name": "stdout",
     "output_type": "stream",
     "text": [
      "Epoch 5/50 => Train Loss: 0.2313, Train Acc: 0.9142 | Val Loss: 0.2066, Val Acc: 0.9150\n",
      "Validation accuracy did not improve for 1 epoch(s).\n"
     ]
    },
    {
     "data": {
      "application/vnd.jupyter.widget-view+json": {
       "model_id": "0034f7b267fd41e995ff0c0526eebde5",
       "version_major": 2,
       "version_minor": 0
      },
      "text/plain": [
       "Epoch 6/50 [Train]:   0%|          | 0/443 [00:00<?, ?it/s]"
      ]
     },
     "metadata": {},
     "output_type": "display_data"
    },
    {
     "data": {
      "application/vnd.jupyter.widget-view+json": {
       "model_id": "b179044ec1754a6e9ddb92a8f3d407d9",
       "version_major": 2,
       "version_minor": 0
      },
      "text/plain": [
       "Epoch 6/50 [Validate]:   0%|          | 0/95 [00:00<?, ?it/s]"
      ]
     },
     "metadata": {},
     "output_type": "display_data"
    },
    {
     "name": "stdout",
     "output_type": "stream",
     "text": [
      "Epoch 6/50 => Train Loss: 0.2108, Train Acc: 0.9238 | Val Loss: 0.1785, Val Acc: 0.9305\n",
      "Validation accuracy improved (0.9190 --> 0.9305). Saving model...\n"
     ]
    },
    {
     "data": {
      "application/vnd.jupyter.widget-view+json": {
       "model_id": "33431bef946145b88f7b4f135b03c6c7",
       "version_major": 2,
       "version_minor": 0
      },
      "text/plain": [
       "Epoch 7/50 [Train]:   0%|          | 0/443 [00:00<?, ?it/s]"
      ]
     },
     "metadata": {},
     "output_type": "display_data"
    },
    {
     "data": {
      "application/vnd.jupyter.widget-view+json": {
       "model_id": "1a03db91871547fea78ff30acbe46f49",
       "version_major": 2,
       "version_minor": 0
      },
      "text/plain": [
       "Epoch 7/50 [Validate]:   0%|          | 0/95 [00:00<?, ?it/s]"
      ]
     },
     "metadata": {},
     "output_type": "display_data"
    },
    {
     "name": "stdout",
     "output_type": "stream",
     "text": [
      "Epoch 7/50 => Train Loss: 0.1930, Train Acc: 0.9301 | Val Loss: 0.1710, Val Acc: 0.9282\n",
      "Validation accuracy did not improve for 1 epoch(s).\n"
     ]
    },
    {
     "data": {
      "application/vnd.jupyter.widget-view+json": {
       "model_id": "a3375a1f83534e60b63315fce9d46846",
       "version_major": 2,
       "version_minor": 0
      },
      "text/plain": [
       "Epoch 8/50 [Train]:   0%|          | 0/443 [00:00<?, ?it/s]"
      ]
     },
     "metadata": {},
     "output_type": "display_data"
    },
    {
     "data": {
      "application/vnd.jupyter.widget-view+json": {
       "model_id": "f3c0b22d63784e8eabc426830abe55d1",
       "version_major": 2,
       "version_minor": 0
      },
      "text/plain": [
       "Epoch 8/50 [Validate]:   0%|          | 0/95 [00:00<?, ?it/s]"
      ]
     },
     "metadata": {},
     "output_type": "display_data"
    },
    {
     "name": "stdout",
     "output_type": "stream",
     "text": [
      "Epoch 8/50 => Train Loss: 0.1773, Train Acc: 0.9368 | Val Loss: 0.1230, Val Acc: 0.9578\n",
      "Validation accuracy improved (0.9305 --> 0.9578). Saving model...\n"
     ]
    },
    {
     "data": {
      "application/vnd.jupyter.widget-view+json": {
       "model_id": "0e6c4652b4bc4825bca2769401ff921f",
       "version_major": 2,
       "version_minor": 0
      },
      "text/plain": [
       "Epoch 9/50 [Train]:   0%|          | 0/443 [00:00<?, ?it/s]"
      ]
     },
     "metadata": {},
     "output_type": "display_data"
    },
    {
     "data": {
      "application/vnd.jupyter.widget-view+json": {
       "model_id": "545da1a1b82e43d7845601231bc3490d",
       "version_major": 2,
       "version_minor": 0
      },
      "text/plain": [
       "Epoch 9/50 [Validate]:   0%|          | 0/95 [00:00<?, ?it/s]"
      ]
     },
     "metadata": {},
     "output_type": "display_data"
    },
    {
     "name": "stdout",
     "output_type": "stream",
     "text": [
      "Epoch 9/50 => Train Loss: 0.1660, Train Acc: 0.9407 | Val Loss: 0.1304, Val Acc: 0.9519\n",
      "Validation accuracy did not improve for 1 epoch(s).\n"
     ]
    },
    {
     "data": {
      "application/vnd.jupyter.widget-view+json": {
       "model_id": "86bbbb64b02e41d89ec89966ba7bd953",
       "version_major": 2,
       "version_minor": 0
      },
      "text/plain": [
       "Epoch 10/50 [Train]:   0%|          | 0/443 [00:00<?, ?it/s]"
      ]
     },
     "metadata": {},
     "output_type": "display_data"
    },
    {
     "data": {
      "application/vnd.jupyter.widget-view+json": {
       "model_id": "91b15d9914de4cd29f169b9d182b869d",
       "version_major": 2,
       "version_minor": 0
      },
      "text/plain": [
       "Epoch 10/50 [Validate]:   0%|          | 0/95 [00:00<?, ?it/s]"
      ]
     },
     "metadata": {},
     "output_type": "display_data"
    },
    {
     "name": "stdout",
     "output_type": "stream",
     "text": [
      "Epoch 10/50 => Train Loss: 0.1571, Train Acc: 0.9447 | Val Loss: 0.1580, Val Acc: 0.9397\n",
      "Validation accuracy did not improve for 2 epoch(s).\n"
     ]
    },
    {
     "data": {
      "application/vnd.jupyter.widget-view+json": {
       "model_id": "75dec9324c4f4e7ba98bb44644130a83",
       "version_major": 2,
       "version_minor": 0
      },
      "text/plain": [
       "Epoch 11/50 [Train]:   0%|          | 0/443 [00:00<?, ?it/s]"
      ]
     },
     "metadata": {},
     "output_type": "display_data"
    },
    {
     "data": {
      "application/vnd.jupyter.widget-view+json": {
       "model_id": "fd865270c49746f9b2ae1a7c1d9b93cb",
       "version_major": 2,
       "version_minor": 0
      },
      "text/plain": [
       "Epoch 11/50 [Validate]:   0%|          | 0/95 [00:00<?, ?it/s]"
      ]
     },
     "metadata": {},
     "output_type": "display_data"
    },
    {
     "name": "stdout",
     "output_type": "stream",
     "text": [
      "Epoch 11/50 => Train Loss: 0.1452, Train Acc: 0.9469 | Val Loss: 0.1080, Val Acc: 0.9615\n",
      "Validation accuracy improved (0.9578 --> 0.9615). Saving model...\n"
     ]
    },
    {
     "data": {
      "application/vnd.jupyter.widget-view+json": {
       "model_id": "07cc36dc19394dbd92fe7917d45a9661",
       "version_major": 2,
       "version_minor": 0
      },
      "text/plain": [
       "Epoch 12/50 [Train]:   0%|          | 0/443 [00:00<?, ?it/s]"
      ]
     },
     "metadata": {},
     "output_type": "display_data"
    },
    {
     "data": {
      "application/vnd.jupyter.widget-view+json": {
       "model_id": "5d8dd9d755c24f90aec8b5613022e278",
       "version_major": 2,
       "version_minor": 0
      },
      "text/plain": [
       "Epoch 12/50 [Validate]:   0%|          | 0/95 [00:00<?, ?it/s]"
      ]
     },
     "metadata": {},
     "output_type": "display_data"
    },
    {
     "name": "stdout",
     "output_type": "stream",
     "text": [
      "Epoch 12/50 => Train Loss: 0.1380, Train Acc: 0.9521 | Val Loss: 0.1131, Val Acc: 0.9572\n",
      "Validation accuracy did not improve for 1 epoch(s).\n"
     ]
    },
    {
     "data": {
      "application/vnd.jupyter.widget-view+json": {
       "model_id": "f0cc1174b9fd4069a92383762772db49",
       "version_major": 2,
       "version_minor": 0
      },
      "text/plain": [
       "Epoch 13/50 [Train]:   0%|          | 0/443 [00:00<?, ?it/s]"
      ]
     },
     "metadata": {},
     "output_type": "display_data"
    },
    {
     "data": {
      "application/vnd.jupyter.widget-view+json": {
       "model_id": "77869d5b0fb94792bc3e139bcfe2460b",
       "version_major": 2,
       "version_minor": 0
      },
      "text/plain": [
       "Epoch 13/50 [Validate]:   0%|          | 0/95 [00:00<?, ?it/s]"
      ]
     },
     "metadata": {},
     "output_type": "display_data"
    },
    {
     "name": "stdout",
     "output_type": "stream",
     "text": [
      "Epoch 13/50 => Train Loss: 0.1335, Train Acc: 0.9519 | Val Loss: 0.0930, Val Acc: 0.9667\n",
      "Validation accuracy improved (0.9615 --> 0.9667). Saving model...\n"
     ]
    },
    {
     "data": {
      "application/vnd.jupyter.widget-view+json": {
       "model_id": "bba5268f889e4c3eb847543103f0325a",
       "version_major": 2,
       "version_minor": 0
      },
      "text/plain": [
       "Epoch 14/50 [Train]:   0%|          | 0/443 [00:00<?, ?it/s]"
      ]
     },
     "metadata": {},
     "output_type": "display_data"
    },
    {
     "data": {
      "application/vnd.jupyter.widget-view+json": {
       "model_id": "b68d9cf267894694b3ecfff999161ee3",
       "version_major": 2,
       "version_minor": 0
      },
      "text/plain": [
       "Epoch 14/50 [Validate]:   0%|          | 0/95 [00:00<?, ?it/s]"
      ]
     },
     "metadata": {},
     "output_type": "display_data"
    },
    {
     "name": "stdout",
     "output_type": "stream",
     "text": [
      "Epoch 14/50 => Train Loss: 0.1253, Train Acc: 0.9558 | Val Loss: 0.1113, Val Acc: 0.9608\n",
      "Validation accuracy did not improve for 1 epoch(s).\n"
     ]
    },
    {
     "data": {
      "application/vnd.jupyter.widget-view+json": {
       "model_id": "c603824c868c46ffa9a67851466b9233",
       "version_major": 2,
       "version_minor": 0
      },
      "text/plain": [
       "Epoch 15/50 [Train]:   0%|          | 0/443 [00:00<?, ?it/s]"
      ]
     },
     "metadata": {},
     "output_type": "display_data"
    },
    {
     "data": {
      "application/vnd.jupyter.widget-view+json": {
       "model_id": "badce278abdc47e68ac8fefa7657717e",
       "version_major": 2,
       "version_minor": 0
      },
      "text/plain": [
       "Epoch 15/50 [Validate]:   0%|          | 0/95 [00:00<?, ?it/s]"
      ]
     },
     "metadata": {},
     "output_type": "display_data"
    },
    {
     "name": "stdout",
     "output_type": "stream",
     "text": [
      "Epoch 15/50 => Train Loss: 0.1200, Train Acc: 0.9584 | Val Loss: 0.0927, Val Acc: 0.9648\n",
      "Validation accuracy did not improve for 2 epoch(s).\n"
     ]
    },
    {
     "data": {
      "application/vnd.jupyter.widget-view+json": {
       "model_id": "6b15959fff8645299851f8aa280b896c",
       "version_major": 2,
       "version_minor": 0
      },
      "text/plain": [
       "Epoch 16/50 [Train]:   0%|          | 0/443 [00:00<?, ?it/s]"
      ]
     },
     "metadata": {},
     "output_type": "display_data"
    },
    {
     "data": {
      "application/vnd.jupyter.widget-view+json": {
       "model_id": "20ef7202617545db99f9f35d3c8849dc",
       "version_major": 2,
       "version_minor": 0
      },
      "text/plain": [
       "Epoch 16/50 [Validate]:   0%|          | 0/95 [00:00<?, ?it/s]"
      ]
     },
     "metadata": {},
     "output_type": "display_data"
    },
    {
     "name": "stdout",
     "output_type": "stream",
     "text": [
      "Epoch 16/50 => Train Loss: 0.1116, Train Acc: 0.9608 | Val Loss: 0.1093, Val Acc: 0.9608\n",
      "Validation accuracy did not improve for 3 epoch(s).\n"
     ]
    },
    {
     "data": {
      "application/vnd.jupyter.widget-view+json": {
       "model_id": "946b2fcf5558498eb0da7ccfc08388b7",
       "version_major": 2,
       "version_minor": 0
      },
      "text/plain": [
       "Epoch 17/50 [Train]:   0%|          | 0/443 [00:00<?, ?it/s]"
      ]
     },
     "metadata": {},
     "output_type": "display_data"
    },
    {
     "data": {
      "application/vnd.jupyter.widget-view+json": {
       "model_id": "efd48e4f50e0411282088238727fab0c",
       "version_major": 2,
       "version_minor": 0
      },
      "text/plain": [
       "Epoch 17/50 [Validate]:   0%|          | 0/95 [00:00<?, ?it/s]"
      ]
     },
     "metadata": {},
     "output_type": "display_data"
    },
    {
     "name": "stdout",
     "output_type": "stream",
     "text": [
      "Epoch 17/50 => Train Loss: 0.1103, Train Acc: 0.9607 | Val Loss: 0.1084, Val Acc: 0.9621\n",
      "Validation accuracy did not improve for 4 epoch(s).\n"
     ]
    },
    {
     "data": {
      "application/vnd.jupyter.widget-view+json": {
       "model_id": "ceaf2f41bf7a4828baf8e99855422ad1",
       "version_major": 2,
       "version_minor": 0
      },
      "text/plain": [
       "Epoch 18/50 [Train]:   0%|          | 0/443 [00:00<?, ?it/s]"
      ]
     },
     "metadata": {},
     "output_type": "display_data"
    },
    {
     "data": {
      "application/vnd.jupyter.widget-view+json": {
       "model_id": "d89d542b5ef042dbab10232ac56c3211",
       "version_major": 2,
       "version_minor": 0
      },
      "text/plain": [
       "Epoch 18/50 [Validate]:   0%|          | 0/95 [00:00<?, ?it/s]"
      ]
     },
     "metadata": {},
     "output_type": "display_data"
    },
    {
     "name": "stdout",
     "output_type": "stream",
     "text": [
      "Epoch 18/50 => Train Loss: 0.1072, Train Acc: 0.9637 | Val Loss: 0.0778, Val Acc: 0.9707\n",
      "Validation accuracy improved (0.9667 --> 0.9707). Saving model...\n"
     ]
    },
    {
     "data": {
      "application/vnd.jupyter.widget-view+json": {
       "model_id": "a2fea32728e641239ec142abc014e438",
       "version_major": 2,
       "version_minor": 0
      },
      "text/plain": [
       "Epoch 19/50 [Train]:   0%|          | 0/443 [00:00<?, ?it/s]"
      ]
     },
     "metadata": {},
     "output_type": "display_data"
    },
    {
     "data": {
      "application/vnd.jupyter.widget-view+json": {
       "model_id": "e4a6e99aeccb478fbf9b22d7fff11e76",
       "version_major": 2,
       "version_minor": 0
      },
      "text/plain": [
       "Epoch 19/50 [Validate]:   0%|          | 0/95 [00:00<?, ?it/s]"
      ]
     },
     "metadata": {},
     "output_type": "display_data"
    },
    {
     "name": "stdout",
     "output_type": "stream",
     "text": [
      "Epoch 19/50 => Train Loss: 0.1049, Train Acc: 0.9637 | Val Loss: 0.0799, Val Acc: 0.9697\n",
      "Validation accuracy did not improve for 1 epoch(s).\n"
     ]
    },
    {
     "data": {
      "application/vnd.jupyter.widget-view+json": {
       "model_id": "0255b509dd0d4f93ae42403282049964",
       "version_major": 2,
       "version_minor": 0
      },
      "text/plain": [
       "Epoch 20/50 [Train]:   0%|          | 0/443 [00:00<?, ?it/s]"
      ]
     },
     "metadata": {},
     "output_type": "display_data"
    },
    {
     "data": {
      "application/vnd.jupyter.widget-view+json": {
       "model_id": "f3820cb1af5e4c9db8008e4dcc3a8234",
       "version_major": 2,
       "version_minor": 0
      },
      "text/plain": [
       "Epoch 20/50 [Validate]:   0%|          | 0/95 [00:00<?, ?it/s]"
      ]
     },
     "metadata": {},
     "output_type": "display_data"
    },
    {
     "name": "stdout",
     "output_type": "stream",
     "text": [
      "Epoch 20/50 => Train Loss: 0.0989, Train Acc: 0.9649 | Val Loss: 0.0756, Val Acc: 0.9733\n",
      "Validation accuracy improved (0.9707 --> 0.9733). Saving model...\n"
     ]
    },
    {
     "data": {
      "application/vnd.jupyter.widget-view+json": {
       "model_id": "7be5a33df8b44463b45a41139e5d64ae",
       "version_major": 2,
       "version_minor": 0
      },
      "text/plain": [
       "Epoch 21/50 [Train]:   0%|          | 0/443 [00:00<?, ?it/s]"
      ]
     },
     "metadata": {},
     "output_type": "display_data"
    },
    {
     "data": {
      "application/vnd.jupyter.widget-view+json": {
       "model_id": "087c64ea0ce44c82baa283e31c8ed34b",
       "version_major": 2,
       "version_minor": 0
      },
      "text/plain": [
       "Epoch 21/50 [Validate]:   0%|          | 0/95 [00:00<?, ?it/s]"
      ]
     },
     "metadata": {},
     "output_type": "display_data"
    },
    {
     "name": "stdout",
     "output_type": "stream",
     "text": [
      "Epoch 21/50 => Train Loss: 0.0988, Train Acc: 0.9653 | Val Loss: 0.0787, Val Acc: 0.9674\n",
      "Validation accuracy did not improve for 1 epoch(s).\n"
     ]
    },
    {
     "data": {
      "application/vnd.jupyter.widget-view+json": {
       "model_id": "4dd4c41d33fc4d938be4455eac3b73ca",
       "version_major": 2,
       "version_minor": 0
      },
      "text/plain": [
       "Epoch 22/50 [Train]:   0%|          | 0/443 [00:00<?, ?it/s]"
      ]
     },
     "metadata": {},
     "output_type": "display_data"
    },
    {
     "data": {
      "application/vnd.jupyter.widget-view+json": {
       "model_id": "5ad9b7e681014701af878a7ebe7ab199",
       "version_major": 2,
       "version_minor": 0
      },
      "text/plain": [
       "Epoch 22/50 [Validate]:   0%|          | 0/95 [00:00<?, ?it/s]"
      ]
     },
     "metadata": {},
     "output_type": "display_data"
    },
    {
     "name": "stdout",
     "output_type": "stream",
     "text": [
      "Epoch 22/50 => Train Loss: 0.0929, Train Acc: 0.9668 | Val Loss: 0.0824, Val Acc: 0.9697\n",
      "Validation accuracy did not improve for 2 epoch(s).\n"
     ]
    },
    {
     "data": {
      "application/vnd.jupyter.widget-view+json": {
       "model_id": "22d65911d20c456da784b50fd9879287",
       "version_major": 2,
       "version_minor": 0
      },
      "text/plain": [
       "Epoch 23/50 [Train]:   0%|          | 0/443 [00:00<?, ?it/s]"
      ]
     },
     "metadata": {},
     "output_type": "display_data"
    },
    {
     "data": {
      "application/vnd.jupyter.widget-view+json": {
       "model_id": "b23996c74be64d5084b00302e4323af5",
       "version_major": 2,
       "version_minor": 0
      },
      "text/plain": [
       "Epoch 23/50 [Validate]:   0%|          | 0/95 [00:00<?, ?it/s]"
      ]
     },
     "metadata": {},
     "output_type": "display_data"
    },
    {
     "name": "stdout",
     "output_type": "stream",
     "text": [
      "Epoch 23/50 => Train Loss: 0.0912, Train Acc: 0.9680 | Val Loss: 0.0812, Val Acc: 0.9704\n",
      "Validation accuracy did not improve for 3 epoch(s).\n"
     ]
    },
    {
     "data": {
      "application/vnd.jupyter.widget-view+json": {
       "model_id": "6f158182782c484db9717411c02e7213",
       "version_major": 2,
       "version_minor": 0
      },
      "text/plain": [
       "Epoch 24/50 [Train]:   0%|          | 0/443 [00:00<?, ?it/s]"
      ]
     },
     "metadata": {},
     "output_type": "display_data"
    },
    {
     "data": {
      "application/vnd.jupyter.widget-view+json": {
       "model_id": "6bc401cbbf0b44148f2296f025cee6ce",
       "version_major": 2,
       "version_minor": 0
      },
      "text/plain": [
       "Epoch 24/50 [Validate]:   0%|          | 0/95 [00:00<?, ?it/s]"
      ]
     },
     "metadata": {},
     "output_type": "display_data"
    },
    {
     "name": "stdout",
     "output_type": "stream",
     "text": [
      "Epoch 24/50 => Train Loss: 0.0855, Train Acc: 0.9695 | Val Loss: 0.0844, Val Acc: 0.9671\n",
      "Validation accuracy did not improve for 4 epoch(s).\n"
     ]
    },
    {
     "data": {
      "application/vnd.jupyter.widget-view+json": {
       "model_id": "a4620d338ba9477380304b71cb1496ef",
       "version_major": 2,
       "version_minor": 0
      },
      "text/plain": [
       "Epoch 25/50 [Train]:   0%|          | 0/443 [00:00<?, ?it/s]"
      ]
     },
     "metadata": {},
     "output_type": "display_data"
    },
    {
     "data": {
      "application/vnd.jupyter.widget-view+json": {
       "model_id": "b1856546eb2944b9ae47571231922bb4",
       "version_major": 2,
       "version_minor": 0
      },
      "text/plain": [
       "Epoch 25/50 [Validate]:   0%|          | 0/95 [00:00<?, ?it/s]"
      ]
     },
     "metadata": {},
     "output_type": "display_data"
    },
    {
     "name": "stdout",
     "output_type": "stream",
     "text": [
      "Epoch 25/50 => Train Loss: 0.0902, Train Acc: 0.9665 | Val Loss: 0.0705, Val Acc: 0.9723\n",
      "Validation accuracy did not improve for 5 epoch(s).\n",
      "Early stopping triggered after 25 epochs.\n",
      "Loading best model weights for final evaluation.\n"
     ]
    }
   ],
   "source": [
    "best_val_accuracy = 0.0\n",
    "epochs_no_improve = 0\n",
    "best_model_weights = None  # Store best weights here\n",
    "history = {'train_loss': [], 'train_acc': [], 'val_loss': [], 'val_acc': []}\n",
    "\n",
    "for epoch in range(EPOCHS):\n",
    "    # --- Training Phase ---\n",
    "    model.train()  # Set model to training mode (enables dropout, batch norm updates)\n",
    "    running_loss = 0.0\n",
    "    correct_predictions = 0\n",
    "    total_samples = 0\n",
    "\n",
    "    train_pbar = tqdm(train_loader, desc=f\"Epoch {epoch+1}/{EPOCHS} [Train]\", leave=False)\n",
    "    for inputs, labels in train_pbar:\n",
    "        inputs, labels = inputs.to(device), labels.to(device)\n",
    "\n",
    "        # Zero the parameter gradients\n",
    "        optimizer.zero_grad()\n",
    "\n",
    "        # Forward pass\n",
    "        outputs = model(inputs)\n",
    "        loss = criterion(outputs, labels)\n",
    "\n",
    "        # Backward pass and optimize\n",
    "        loss.backward()\n",
    "        optimizer.step()\n",
    "\n",
    "        # Statistics\n",
    "        running_loss += loss.item() * inputs.size(0)\n",
    "\n",
    "        _, preds = torch.max(outputs, 1) \n",
    "        correct_predictions += (preds == labels).sum().item()\n",
    "        total_samples += labels.size(0)\n",
    "\n",
    "        train_pbar.set_postfix({'loss': loss.item()})\n",
    "\n",
    "\n",
    "    epoch_train_loss = running_loss / total_samples\n",
    "    epoch_train_acc = correct_predictions / total_samples\n",
    "    history['train_loss'].append(epoch_train_loss)\n",
    "    history['train_acc'].append(epoch_train_acc)\n",
    "\n",
    "    # --- Validation Phase ---\n",
    "    model.eval()  # Set model to evaluation mode (disables dropout, uses running stats for batch norm)\n",
    "    running_val_loss = 0.0\n",
    "    correct_val_predictions = 0\n",
    "    total_val_samples = 0\n",
    "\n",
    "    val_pbar = tqdm(val_loader, desc=f\"Epoch {epoch+1}/{EPOCHS} [Validate]\", leave=False)\n",
    "    with torch.no_grad():  # Disable gradient calculations\n",
    "        for inputs, labels in val_pbar:\n",
    "            inputs, labels = inputs.to(device), labels.to(device)\n",
    "\n",
    "            outputs = model(inputs)\n",
    "            loss = criterion(outputs, labels)\n",
    "\n",
    "            running_val_loss += loss.item() * inputs.size(0)\n",
    "            _, preds = torch.max(outputs, 1) \n",
    "            correct_val_predictions += (preds == labels).sum().item()\n",
    "            total_val_samples += labels.size(0)\n",
    "            val_pbar.set_postfix({'val_loss': loss.item()})\n",
    "\n",
    "    epoch_val_loss = running_val_loss / total_val_samples\n",
    "    epoch_val_acc = correct_val_predictions / total_val_samples\n",
    "    history['val_loss'].append(epoch_val_loss)\n",
    "    history['val_acc'].append(epoch_val_acc)\n",
    "\n",
    "    print(f\"Epoch {epoch+1}/{EPOCHS} => \"\n",
    "          f\"Train Loss: {epoch_train_loss:.4f}, Train Acc: {epoch_train_acc:.4f} | \"\n",
    "          f\"Val Loss: {epoch_val_loss:.4f}, Val Acc: {epoch_val_acc:.4f}\")\n",
    "\n",
    "    # --- Model Checkpoint & Early Stopping ---\n",
    "    if epoch_val_acc > best_val_accuracy:\n",
    "        print(f\"Validation accuracy improved ({best_val_accuracy:.4f} --> {epoch_val_acc:.4f}). Saving model...\")\n",
    "        best_val_accuracy = epoch_val_acc\n",
    "        # Save the best model state\n",
    "        best_model_weights = copy.deepcopy(model.state_dict())\n",
    "        torch.save(best_model_weights, 'best_pepper_classifier_pytorch.pth')\n",
    "        epochs_no_improve = 0\n",
    "    else:\n",
    "        epochs_no_improve += 1\n",
    "        print(f\"Validation accuracy did not improve for {epochs_no_improve} epoch(s).\")\n",
    "\n",
    "    if epochs_no_improve >= PATIENCE:\n",
    "        print(f\"Early stopping triggered after {epoch + 1} epochs.\")\n",
    "        break\n",
    "\n",
    "if best_model_weights:\n",
    "    print(\"Loading best model weights for final evaluation.\")\n",
    "    model.load_state_dict(best_model_weights)\n",
    "else:\n",
    "    print(\"Warning: No best model weights saved (perhaps training stopped early or didn't improve). Using last epoch weights.\")"
   ]
  },
  {
   "cell_type": "code",
   "execution_count": 47,
   "metadata": {},
   "outputs": [
    {
     "data": {
      "image/png": "[encoded data removed]",
      "text/plain": [
       "<Figure size 1200x500 with 2 Axes>"
      ]
     },
     "metadata": {},
     "output_type": "display_data"
    }
   ],
   "source": [
    "epochs_range = range(1, len(history['train_loss']) + 1)\n",
    "\n",
    "plt.figure(figsize=(12, 5))\n",
    "\n",
    "plt.subplot(1, 2, 1)\n",
    "plt.plot(epochs_range, history['train_acc'], label='Training Accuracy')\n",
    "plt.plot(epochs_range, history['val_acc'], label='Validation Accuracy')\n",
    "plt.legend(loc='lower right')\n",
    "plt.title('Training and Validation Accuracy')\n",
    "plt.xlabel('Epoch')\n",
    "plt.ylabel('Accuracy')\n",
    "\n",
    "\n",
    "plt.subplot(1, 2, 2)\n",
    "plt.plot(epochs_range, history['train_loss'], label='Training Loss')\n",
    "plt.plot(epochs_range, history['val_loss'], label='Validation Loss')\n",
    "plt.legend(loc='upper right')\n",
    "plt.title('Training and Validation Loss')\n",
    "plt.xlabel('Epoch')\n",
    "plt.ylabel('Loss')\n",
    "\n",
    "plt.tight_layout()\n",
    "plt.show()"
   ]
  },
  {
   "cell_type": "code",
   "execution_count": 48,
   "metadata": {},
   "outputs": [
    {
     "data": {
      "application/vnd.jupyter.widget-view+json": {
       "model_id": "4474dbbedbcf42f68ae15f288e1227fe",
       "version_major": 2,
       "version_minor": 0
      },
      "text/plain": [
       "Testing:   0%|          | 0/95 [00:00<?, ?it/s]"
      ]
     },
     "metadata": {},
     "output_type": "display_data"
    },
    {
     "name": "stdout",
     "output_type": "stream",
     "text": [
      "\n",
      "Test Loss: 0.0595\n",
      "Test Accuracy: 0.9770\n"
     ]
    }
   ],
   "source": [
    "model.eval()\n",
    "\n",
    "all_preds = []\n",
    "all_labels = []\n",
    "test_loss = 0.0\n",
    "total_test_samples = 0\n",
    "\n",
    "with torch.no_grad():\n",
    "    for inputs, labels in tqdm(test_loader, desc=\"Testing\"):\n",
    "        inputs, labels = inputs.to(device), labels.to(device)\n",
    "\n",
    "        outputs = model(inputs)\n",
    "        loss = criterion(outputs, labels) # Calculate loss on test set as well\n",
    "\n",
    "        test_loss += loss.item() * inputs.size(0)\n",
    "        total_test_samples += labels.size(0)\n",
    "\n",
    "        # Get predictions\n",
    "        _, preds = torch.max(outputs, 1) # Get the index of the max log-probability\n",
    "        all_preds.extend(preds.cpu().numpy()) # Move predictions to CPU and store\n",
    "        all_labels.extend(labels.cpu().numpy()) # Move labels to CPU and store\n",
    "\n",
    "final_test_loss = test_loss / total_test_samples\n",
    "\n",
    "all_preds = np.array(all_preds)\n",
    "all_labels = np.array(all_labels)\n",
    "\n",
    "final_test_accuracy = accuracy_score(all_labels, all_preds)\n",
    "\n",
    "print(f\"\\nTest Loss: {final_test_loss:.4f}\")\n",
    "print(f\"Test Accuracy: {final_test_accuracy:.4f}\")"
   ]
  },
  {
   "cell_type": "code",
   "execution_count": 49,
   "metadata": {},
   "outputs": [
    {
     "name": "stdout",
     "output_type": "stream",
     "text": [
      "\n",
      "Classification Report:\n",
      "              precision    recall  f1-score   support\n",
      "\n",
      "      potato       0.95      0.90      0.93       323\n",
      "        bell       0.98      0.95      0.96       371\n",
      "      tomato       0.98      0.99      0.99      2343\n",
      "\n",
      "    accuracy                           0.98      3037\n",
      "   macro avg       0.97      0.95      0.96      3037\n",
      "weighted avg       0.98      0.98      0.98      3037\n",
      "\n",
      "\n",
      "Confusion Matrix:\n",
      "[[ 292    0   31]\n",
      " [   2  354   15]\n",
      " [  13    9 2321]]\n"
     ]
    },
    {
     "data": {
      "image/png": "[encoded data removed]",
      "text/plain": [
       "<Figure size 600x500 with 2 Axes>"
      ]
     },
     "metadata": {},
     "output_type": "display_data"
    }
   ],
   "source": [
    "class_labels = [key for key, val in sorted(label_map.items(), key=lambda item: item[1])] # Sort by value (0, 1, 2)\n",
    "\n",
    "print(\"\\nClassification Report:\")\n",
    "# Ensure target_names are correct\n",
    "print(classification_report(all_labels, all_preds, target_names=class_labels))\n",
    "\n",
    "print(\"\\nConfusion Matrix:\")\n",
    "cm = confusion_matrix(all_labels, all_preds)\n",
    "print(cm)\n",
    "\n",
    "# Plotting Confusion Matrix (should work fine with multi-class cm)\n",
    "plt.figure(figsize=(6, 5)) # Adjust size if needed for 3 classes\n",
    "sns.heatmap(cm, annot=True, fmt='d', cmap='Blues', xticklabels=class_labels, yticklabels=class_labels)\n",
    "plt.xlabel('Predicted Label')\n",
    "plt.ylabel('True Label')\n",
    "plt.title('Confusion Matrix')\n",
    "plt.show()"
   ]
  }
 ],
 "metadata": {
  "kernelspec": {
   "display_name": "Python 3",
   "language": "python",
   "name": "python3"
  },
  "language_info": {
   "codemirror_mode": {
    "name": "ipython",
    "version": 3
   },
   "file_extension": ".py",
   "mimetype": "text/x-python",
   "name": "python",
   "nbconvert_exporter": "python",
   "pygments_lexer": "ipython3",
   "version": "3.10.12"
  }
 },
 "nbformat": 4,
 "nbformat_minor": 2
}
