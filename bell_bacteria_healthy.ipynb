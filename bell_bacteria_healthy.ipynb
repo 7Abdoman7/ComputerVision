{
 "cells": [
  {
   "cell_type": "code",
   "execution_count": 3,
   "metadata": {},
   "outputs": [],
   "source": [
    "import os\n",
    "import pandas as pd\n",
    "import numpy as np\n",
    "import matplotlib.pyplot as plt\n",
    "import seaborn as sns\n",
    "from PIL import Image as PILImage\n",
    "import cv2 \n",
    "from sklearn.model_selection import train_test_split\n",
    "from sklearn.metrics import classification_report, confusion_matrix, accuracy_score\n",
    "\n",
    "import torch\n",
    "import torch.nn as nn\n",
    "import torch.optim as optim\n",
    "from torch.utils.data import Dataset, DataLoader\n",
    "import torchvision.transforms as transforms\n",
    "from torchvision.datasets import ImageFolder # Can be an alternative if folders are structured correctly\n",
    "from tqdm.notebook import tqdm # For progress bars (optional, install if needed)\n",
    "import copy # To save best model weights"
   ]
  },
  {
   "cell_type": "code",
   "execution_count": 4,
   "metadata": {},
   "outputs": [],
   "source": [
    "folder_path_Bacterial_spot = \"/home/abdelrahmanelsayed/PC/My_Projects/CV/PlantVillage/Pepper__bell___Bacterial_spot\"\n",
    "folder_path_Healthy = \"/home/abdelrahmanelsayed/PC/My_Projects/CV/PlantVillage/Pepper__bell___healthy\"\n",
    "\n",
    "# Get a list of all image file paths in the folder\n",
    "image_files_Bacterial_spot = [os.path.join(folder_path_Bacterial_spot, file) for file in os.listdir(folder_path_Bacterial_spot) if file.lower().endswith(('png', 'jpg', 'jpeg', 'bmp', 'gif'))]\n",
    "image_files_Healthy = [os.path.join(folder_path_Healthy, file) for file in os.listdir(folder_path_Healthy) if file.lower().endswith(('png', 'jpg', 'jpeg', 'bmp', 'gif'))]\n",
    "\n",
    "# Create DataFrames\n",
    "df_Bacterial_spot = pd.DataFrame(image_files_Bacterial_spot, columns=[\"File Path\"])\n",
    "df_Healthy = pd.DataFrame(image_files_Healthy, columns=[\"File Path\"])\n",
    "\n",
    "# Combine DataFrames\n",
    "data = pd.concat([df_Bacterial_spot, df_Healthy], ignore_index=True)\n",
    "# Keep string label for potential use later, but map to integer for PyTorch\n",
    "data['Label_Str'] = ['Bacterial_spot'] * len(df_Bacterial_spot) + ['Healthy'] * len(df_Healthy)\n",
    "label_map = {'Bacterial_spot': 0, 'Healthy': 1}\n",
    "data['Label'] = data['Label_Str'].map(label_map)\n",
    "data['Label'] = data['Label'].astype(int) # Keep as int for direct use\n",
    "data['File Path'] = data['File Path'].astype(str)\n",
    "\n",
    "# Shuffle the data\n",
    "data = data.sample(frac=1, random_state=42).reset_index(drop=True)"
   ]
  },
  {
   "cell_type": "code",
   "execution_count": 5,
   "metadata": {},
   "outputs": [
    {
     "name": "stdout",
     "output_type": "stream",
     "text": [
      "Combined DataFrame Head:\n",
      "                                           File Path       Label_Str  Label\n",
      "0  /home/abdelrahmanelsayed/PC/My_Projects/CV/Pla...  Bacterial_spot      0\n",
      "1  /home/abdelrahmanelsayed/PC/My_Projects/CV/Pla...         Healthy      1\n",
      "2  /home/abdelrahmanelsayed/PC/My_Projects/CV/Pla...  Bacterial_spot      0\n",
      "3  /home/abdelrahmanelsayed/PC/My_Projects/CV/Pla...         Healthy      1\n",
      "4  /home/abdelrahmanelsayed/PC/My_Projects/CV/Pla...         Healthy      1\n",
      "\n",
      "DataFrame Info:\n",
      "<class 'pandas.core.frame.DataFrame'>\n",
      "RangeIndex: 2475 entries, 0 to 2474\n",
      "Data columns (total 3 columns):\n",
      " #   Column     Non-Null Count  Dtype \n",
      "---  ------     --------------  ----- \n",
      " 0   File Path  2475 non-null   object\n",
      " 1   Label_Str  2475 non-null   object\n",
      " 2   Label      2475 non-null   int64 \n",
      "dtypes: int64(1), object(2)\n",
      "memory usage: 58.1+ KB\n",
      "None\n",
      "\n",
      "Value Counts for Labels:\n",
      "Label_Str\n",
      "Healthy           1478\n",
      "Bacterial_spot     997\n",
      "Name: count, dtype: int64\n"
     ]
    }
   ],
   "source": [
    "print(\"Combined DataFrame Head:\")\n",
    "print(data.head())\n",
    "print(\"\\nDataFrame Info:\")\n",
    "print(data.info())\n",
    "print(\"\\nValue Counts for Labels:\")\n",
    "print(data['Label_Str'].value_counts())"
   ]
  },
  {
   "cell_type": "code",
   "execution_count": 6,
   "metadata": {},
   "outputs": [
    {
     "name": "stdout",
     "output_type": "stream",
     "text": [
      "\n",
      "Image Dimension Statistics:\n",
      "       Height   Width  Channels\n",
      "count  2475.0  2475.0    2475.0\n",
      "mean    256.0   256.0       3.0\n",
      "std       0.0     0.0       0.0\n",
      "min     256.0   256.0       3.0\n",
      "25%     256.0   256.0       3.0\n",
      "50%     256.0   256.0       3.0\n",
      "75%     256.0   256.0       3.0\n",
      "max     256.0   256.0       3.0\n",
      "\n",
      "Unique Image Dimensions (Height, Width): [[256 256]]\n",
      "\n",
      "All images have the same dimensions.\n",
      "\n",
      "Unique Channel Counts:\n",
      "Channels\n",
      "3    2475\n",
      "Name: count, dtype: int64\n"
     ]
    },
    {
     "data": {
      "image/png": "[encoded data removed]",
      "text/plain": [
       "<Figure size 600x400 with 1 Axes>"
      ]
     },
     "metadata": {},
     "output_type": "display_data"
    },
    {
     "name": "stdout",
     "output_type": "stream",
     "text": [
      "Label_Str\n",
      "Healthy           1478\n",
      "Bacterial_spot     997\n",
      "Name: count, dtype: int64\n"
     ]
    }
   ],
   "source": [
    "image_dims = []\n",
    "error_files = []\n",
    "for file_path in data['File Path']:\n",
    "    try:\n",
    "        img = cv2.imread(file_path)\n",
    "        if img is not None:\n",
    "            image_dims.append(img.shape)\n",
    "        else:\n",
    "            print(f\"Warning: Could not read image {file_path} with OpenCV. Skipping.\")\n",
    "            error_files.append(file_path)\n",
    "    except Exception as e:\n",
    "        print(f\"Error reading image {file_path}: {e}\")\n",
    "        error_files.append(file_path)\n",
    "\n",
    "if error_files:\n",
    "    print(f\"\\nRemoving {len(error_files)} files that could not be read.\")\n",
    "    data = data[~data['File Path'].isin(error_files)].reset_index(drop=True)\n",
    "\n",
    "dims_df = pd.DataFrame(image_dims, columns=['Height', 'Width', 'Channels'])\n",
    "print(\"\\nImage Dimension Statistics:\")\n",
    "print(dims_df.describe())\n",
    "unique_dims = dims_df[['Height', 'Width']].drop_duplicates().values\n",
    "print(\"\\nUnique Image Dimensions (Height, Width):\", unique_dims)\n",
    "if len(unique_dims) > 1:\n",
    "    print(\"\\nWarning: Images have varying dimensions. Resizing will be necessary.\")\n",
    "else:\n",
    "    print(\"\\nAll images have the same dimensions.\")\n",
    "print(\"\\nUnique Channel Counts:\")\n",
    "print(dims_df['Channels'].value_counts())\n",
    "if (dims_df['Channels'] != 3).any():\n",
    "     print(\"Warning: Not all images are 3-channel (RGB). Check/convert non-RGB images.\")\n",
    "\n",
    "plt.figure(figsize=(6, 4))\n",
    "sns.countplot(x='Label_Str', data=data)\n",
    "plt.title('Number of Images per Class')\n",
    "plt.show()\n",
    "print(data['Label_Str'].value_counts())"
   ]
  },
  {
   "cell_type": "code",
   "execution_count": 7,
   "metadata": {},
   "outputs": [
    {
     "name": "stdout",
     "output_type": "stream",
     "text": [
      "Training samples: 1732\n",
      "Validation samples: 371\n",
      "Test samples: 372\n"
     ]
    }
   ],
   "source": [
    "train_df, temp_df = train_test_split(\n",
    "    data, test_size=0.30, random_state=42, stratify=data['Label'])\n",
    "\n",
    "val_df, test_df = train_test_split(\n",
    "    temp_df, test_size=0.50, random_state=42, stratify=temp_df['Label'])\n",
    "\n",
    "print(f\"Training samples: {len(train_df)}\")\n",
    "print(f\"Validation samples: {len(val_df)}\")\n",
    "print(f\"Test samples: {len(test_df)}\")"
   ]
  },
  {
   "cell_type": "code",
   "execution_count": 8,
   "metadata": {},
   "outputs": [],
   "source": [
    "class PlantDataset(Dataset):\n",
    "    def __init__(self, dataframe, transform=None):\n",
    "        \"\"\"\n",
    "        Args:\n",
    "            dataframe (pd.DataFrame): DataFrame with 'File Path' and 'Label' columns.\n",
    "            transform (callable, optional): Optional transform to be applied on a sample.\n",
    "        \"\"\"\n",
    "        self.dataframe = dataframe\n",
    "        self.transform = transform\n",
    "\n",
    "    def __len__(self):\n",
    "        return len(self.dataframe)\n",
    "\n",
    "    def __getitem__(self, idx):\n",
    "        if torch.is_tensor(idx):\n",
    "            idx = idx.tolist()\n",
    "\n",
    "        img_path = self.dataframe.iloc[idx]['File Path']\n",
    "        try:\n",
    "            # Use PIL for compatibility with torchvision transforms\n",
    "            image = PILImage.open(img_path).convert('RGB') # Ensure 3 channels\n",
    "        except Exception as e:\n",
    "            print(f\"Error loading image {img_path}: {e}. Returning None.\")\n",
    "            image = PILImage.open(img_path).convert('RGB')\n",
    "\n",
    "\n",
    "        label = self.dataframe.iloc[idx]['Label']\n",
    "        label = torch.tensor(label, dtype=torch.float32) # BCELoss expects float target\n",
    "\n",
    "        if self.transform:\n",
    "            image = self.transform(image)\n",
    "\n",
    "        return image, label "
   ]
  },
  {
   "cell_type": "code",
   "execution_count": 9,
   "metadata": {},
   "outputs": [],
   "source": [
    "IMG_WIDTH = 128\n",
    "IMG_HEIGHT = 128\n",
    "BATCH_SIZE = 32\n",
    "EPOCHS = 30\n",
    "LEARNING_RATE = 0.0001\n",
    "PATIENCE = 5 \n",
    "\n",
    "mean = [0.485, 0.456, 0.406]\n",
    "std = [0.229, 0.224, 0.225]"
   ]
  },
  {
   "cell_type": "code",
   "execution_count": 10,
   "metadata": {},
   "outputs": [],
   "source": [
    "train_transform = transforms.Compose([\n",
    "    transforms.Resize((IMG_HEIGHT, IMG_WIDTH)),\n",
    "    transforms.RandomRotation(30),\n",
    "    transforms.RandomResizedCrop((IMG_HEIGHT, IMG_WIDTH), scale=(0.8, 1.0)), \n",
    "    transforms.RandomHorizontalFlip(),\n",
    "    transforms.ToTensor(),\n",
    "    transforms.Normalize(mean=mean, std=std)\n",
    "])\n",
    "\n",
    "val_test_transform = transforms.Compose([\n",
    "    transforms.Resize((IMG_HEIGHT, IMG_WIDTH)),\n",
    "    transforms.ToTensor(),\n",
    "    transforms.Normalize(mean=mean, std=std)\n",
    "])"
   ]
  },
  {
   "cell_type": "code",
   "execution_count": 11,
   "metadata": {},
   "outputs": [],
   "source": [
    "train_dataset = PlantDataset(train_df, transform=train_transform)\n",
    "val_dataset = PlantDataset(val_df, transform=val_test_transform)\n",
    "test_dataset = PlantDataset(test_df, transform=val_test_transform)\n",
    "\n",
    "train_loader = DataLoader(train_dataset, batch_size=BATCH_SIZE, shuffle=True, num_workers=4, pin_memory=True)\n",
    "val_loader = DataLoader(val_dataset, batch_size=BATCH_SIZE, shuffle=False, num_workers=4, pin_memory=True)\n",
    "test_loader = DataLoader(test_dataset, batch_size=BATCH_SIZE, shuffle=False, num_workers=4, pin_memory=True)"
   ]
  },
  {
   "cell_type": "code",
   "execution_count": 12,
   "metadata": {},
   "outputs": [],
   "source": [
    "class SimpleCNN(nn.Module):\n",
    "    def __init__(self, num_classes=1):\n",
    "        super(SimpleCNN, self).__init__()\n",
    "        self.conv_block1 = nn.Sequential(\n",
    "            nn.Conv2d(3, 32, kernel_size=3, padding=1), \n",
    "            nn.BatchNorm2d(32),\n",
    "            nn.ReLU(),\n",
    "            nn.MaxPool2d(kernel_size=2, stride=2) \n",
    "        )\n",
    "        self.conv_block2 = nn.Sequential(\n",
    "            nn.Conv2d(32, 64, kernel_size=3, padding=1),\n",
    "            nn.BatchNorm2d(64),\n",
    "            nn.ReLU(),\n",
    "            nn.MaxPool2d(kernel_size=2, stride=2)\n",
    "        )\n",
    "        self.conv_block3 = nn.Sequential(\n",
    "            nn.Conv2d(64, 128, kernel_size=3, padding=1),\n",
    "            nn.BatchNorm2d(128),\n",
    "            nn.ReLU(),\n",
    "            nn.MaxPool2d(kernel_size=2, stride=2) \n",
    "        )\n",
    "\n",
    "        flattened_size = 128 * (IMG_HEIGHT // 8) * (IMG_WIDTH // 8)\n",
    "\n",
    "        self.fc_block = nn.Sequential(\n",
    "            nn.Flatten(),\n",
    "            nn.Linear(flattened_size, 128),\n",
    "            nn.ReLU(),\n",
    "            nn.Dropout(0.5),\n",
    "            nn.Linear(128, num_classes) \n",
    "        )\n",
    "\n",
    "    def forward(self, x):\n",
    "        x = self.conv_block1(x)\n",
    "        x = self.conv_block2(x)\n",
    "        x = self.conv_block3(x)\n",
    "        x = self.fc_block(x)\n",
    "        return x"
   ]
  },
  {
   "cell_type": "code",
   "execution_count": 13,
   "metadata": {},
   "outputs": [
    {
     "name": "stdout",
     "output_type": "stream",
     "text": [
      "Using device: cuda\n"
     ]
    }
   ],
   "source": [
    "device = torch.device(\"cuda\" if torch.cuda.is_available() else \"cpu\")\n",
    "print(f\"Using device: {device}\")"
   ]
  },
  {
   "cell_type": "code",
   "execution_count": 14,
   "metadata": {},
   "outputs": [],
   "source": [
    "model = SimpleCNN(num_classes=1).to(device)\n",
    "\n",
    "criterion = nn.BCEWithLogitsLoss()\n",
    "optimizer = optim.Adam(model.parameters(), lr=LEARNING_RATE)"
   ]
  },
  {
   "cell_type": "code",
   "execution_count": 15,
   "metadata": {},
   "outputs": [
    {
     "data": {
      "application/vnd.jupyter.widget-view+json": {
       "model_id": "4130e8a969684f008f88ae1dd71d20b3",
       "version_major": 2,
       "version_minor": 0
      },
      "text/plain": [
       "Epoch 1/30 [Train]:   0%|          | 0/55 [00:00<?, ?it/s]"
      ]
     },
     "metadata": {},
     "output_type": "display_data"
    },
    {
     "data": {
      "application/vnd.jupyter.widget-view+json": {
       "model_id": "cfa32bda21e74fef90ac1e0b1e1b9d3d",
       "version_major": 2,
       "version_minor": 0
      },
      "text/plain": [
       "Epoch 1/30 [Validate]:   0%|          | 0/12 [00:00<?, ?it/s]"
      ]
     },
     "metadata": {},
     "output_type": "display_data"
    },
    {
     "name": "stdout",
     "output_type": "stream",
     "text": [
      "Epoch 1/30 => Train Loss: 0.3762, Train Acc: 0.8262 | Val Loss: 0.3246, Val Acc: 0.8625\n",
      "Validation accuracy improved (0.0000 --> 0.8625). Saving model...\n"
     ]
    },
    {
     "data": {
      "application/vnd.jupyter.widget-view+json": {
       "model_id": "1d2df2b0085d4b13b6603023a074a8af",
       "version_major": 2,
       "version_minor": 0
      },
      "text/plain": [
       "Epoch 2/30 [Train]:   0%|          | 0/55 [00:00<?, ?it/s]"
      ]
     },
     "metadata": {},
     "output_type": "display_data"
    },
    {
     "data": {
      "application/vnd.jupyter.widget-view+json": {
       "model_id": "f09d89a1cc9d45cfb62ebde076ee22c1",
       "version_major": 2,
       "version_minor": 0
      },
      "text/plain": [
       "Epoch 2/30 [Validate]:   0%|          | 0/12 [00:00<?, ?it/s]"
      ]
     },
     "metadata": {},
     "output_type": "display_data"
    },
    {
     "name": "stdout",
     "output_type": "stream",
     "text": [
      "Epoch 2/30 => Train Loss: 0.2524, Train Acc: 0.8967 | Val Loss: 0.2342, Val Acc: 0.9407\n",
      "Validation accuracy improved (0.8625 --> 0.9407). Saving model...\n"
     ]
    },
    {
     "data": {
      "application/vnd.jupyter.widget-view+json": {
       "model_id": "7dcddd7eca0341f7b8b4b6cd6afcea2d",
       "version_major": 2,
       "version_minor": 0
      },
      "text/plain": [
       "Epoch 3/30 [Train]:   0%|          | 0/55 [00:00<?, ?it/s]"
      ]
     },
     "metadata": {},
     "output_type": "display_data"
    },
    {
     "data": {
      "application/vnd.jupyter.widget-view+json": {
       "model_id": "418a11368b9c4b6e905c862c4510aa34",
       "version_major": 2,
       "version_minor": 0
      },
      "text/plain": [
       "Epoch 3/30 [Validate]:   0%|          | 0/12 [00:00<?, ?it/s]"
      ]
     },
     "metadata": {},
     "output_type": "display_data"
    },
    {
     "name": "stdout",
     "output_type": "stream",
     "text": [
      "Epoch 3/30 => Train Loss: 0.2104, Train Acc: 0.9232 | Val Loss: 0.2619, Val Acc: 0.9164\n",
      "Validation accuracy did not improve for 1 epoch(s).\n"
     ]
    },
    {
     "data": {
      "application/vnd.jupyter.widget-view+json": {
       "model_id": "b59cd23842be4180897ea8ac00af6cba",
       "version_major": 2,
       "version_minor": 0
      },
      "text/plain": [
       "Epoch 4/30 [Train]:   0%|          | 0/55 [00:00<?, ?it/s]"
      ]
     },
     "metadata": {},
     "output_type": "display_data"
    },
    {
     "data": {
      "application/vnd.jupyter.widget-view+json": {
       "model_id": "e86c5d6bb301474f95cda2921ce6de40",
       "version_major": 2,
       "version_minor": 0
      },
      "text/plain": [
       "Epoch 4/30 [Validate]:   0%|          | 0/12 [00:00<?, ?it/s]"
      ]
     },
     "metadata": {},
     "output_type": "display_data"
    },
    {
     "name": "stdout",
     "output_type": "stream",
     "text": [
      "Epoch 4/30 => Train Loss: 0.1664, Train Acc: 0.9376 | Val Loss: 0.2193, Val Acc: 0.9596\n",
      "Validation accuracy improved (0.9407 --> 0.9596). Saving model...\n"
     ]
    },
    {
     "data": {
      "application/vnd.jupyter.widget-view+json": {
       "model_id": "83303937e160419ca8ab71511cd26ed0",
       "version_major": 2,
       "version_minor": 0
      },
      "text/plain": [
       "Epoch 5/30 [Train]:   0%|          | 0/55 [00:00<?, ?it/s]"
      ]
     },
     "metadata": {},
     "output_type": "display_data"
    },
    {
     "data": {
      "application/vnd.jupyter.widget-view+json": {
       "model_id": "20e627544ab740f5a6fc1f7db3d2fe0b",
       "version_major": 2,
       "version_minor": 0
      },
      "text/plain": [
       "Epoch 5/30 [Validate]:   0%|          | 0/12 [00:00<?, ?it/s]"
      ]
     },
     "metadata": {},
     "output_type": "display_data"
    },
    {
     "name": "stdout",
     "output_type": "stream",
     "text": [
      "Epoch 5/30 => Train Loss: 0.1239, Train Acc: 0.9579 | Val Loss: 0.2420, Val Acc: 0.9596\n",
      "Validation accuracy did not improve for 1 epoch(s).\n"
     ]
    },
    {
     "data": {
      "application/vnd.jupyter.widget-view+json": {
       "model_id": "6ddcc37e47f5474e900ffaef74654e5e",
       "version_major": 2,
       "version_minor": 0
      },
      "text/plain": [
       "Epoch 6/30 [Train]:   0%|          | 0/55 [00:00<?, ?it/s]"
      ]
     },
     "metadata": {},
     "output_type": "display_data"
    },
    {
     "data": {
      "application/vnd.jupyter.widget-view+json": {
       "model_id": "2dc609316c0646db9fd5d3026752d844",
       "version_major": 2,
       "version_minor": 0
      },
      "text/plain": [
       "Epoch 6/30 [Validate]:   0%|          | 0/12 [00:00<?, ?it/s]"
      ]
     },
     "metadata": {},
     "output_type": "display_data"
    },
    {
     "name": "stdout",
     "output_type": "stream",
     "text": [
      "Epoch 6/30 => Train Loss: 0.1178, Train Acc: 0.9613 | Val Loss: 0.2161, Val Acc: 0.9623\n",
      "Validation accuracy improved (0.9596 --> 0.9623). Saving model...\n"
     ]
    },
    {
     "data": {
      "application/vnd.jupyter.widget-view+json": {
       "model_id": "9e4a05b6a7f6424e8b49e261416e1417",
       "version_major": 2,
       "version_minor": 0
      },
      "text/plain": [
       "Epoch 7/30 [Train]:   0%|          | 0/55 [00:00<?, ?it/s]"
      ]
     },
     "metadata": {},
     "output_type": "display_data"
    },
    {
     "data": {
      "application/vnd.jupyter.widget-view+json": {
       "model_id": "da7ba281f3ce4c7e9d8be1e844aa95e0",
       "version_major": 2,
       "version_minor": 0
      },
      "text/plain": [
       "Epoch 7/30 [Validate]:   0%|          | 0/12 [00:00<?, ?it/s]"
      ]
     },
     "metadata": {},
     "output_type": "display_data"
    },
    {
     "name": "stdout",
     "output_type": "stream",
     "text": [
      "Epoch 7/30 => Train Loss: 0.0844, Train Acc: 0.9729 | Val Loss: 0.2096, Val Acc: 0.9757\n",
      "Validation accuracy improved (0.9623 --> 0.9757). Saving model...\n"
     ]
    },
    {
     "data": {
      "application/vnd.jupyter.widget-view+json": {
       "model_id": "4b3149fa49d14f8ea71fc87661fc57f1",
       "version_major": 2,
       "version_minor": 0
      },
      "text/plain": [
       "Epoch 8/30 [Train]:   0%|          | 0/55 [00:00<?, ?it/s]"
      ]
     },
     "metadata": {},
     "output_type": "display_data"
    },
    {
     "data": {
      "application/vnd.jupyter.widget-view+json": {
       "model_id": "9e52ef28f53c429a8c4de8ed3d404e68",
       "version_major": 2,
       "version_minor": 0
      },
      "text/plain": [
       "Epoch 8/30 [Validate]:   0%|          | 0/12 [00:00<?, ?it/s]"
      ]
     },
     "metadata": {},
     "output_type": "display_data"
    },
    {
     "name": "stdout",
     "output_type": "stream",
     "text": [
      "Epoch 8/30 => Train Loss: 0.0915, Train Acc: 0.9723 | Val Loss: 0.2341, Val Acc: 0.9704\n",
      "Validation accuracy did not improve for 1 epoch(s).\n"
     ]
    },
    {
     "data": {
      "application/vnd.jupyter.widget-view+json": {
       "model_id": "f943bd20411846beb3f169e8b6809ba4",
       "version_major": 2,
       "version_minor": 0
      },
      "text/plain": [
       "Epoch 9/30 [Train]:   0%|          | 0/55 [00:00<?, ?it/s]"
      ]
     },
     "metadata": {},
     "output_type": "display_data"
    },
    {
     "data": {
      "application/vnd.jupyter.widget-view+json": {
       "model_id": "2e3b133da82d4d48af9d4e0d86c58af1",
       "version_major": 2,
       "version_minor": 0
      },
      "text/plain": [
       "Epoch 9/30 [Validate]:   0%|          | 0/12 [00:00<?, ?it/s]"
      ]
     },
     "metadata": {},
     "output_type": "display_data"
    },
    {
     "name": "stdout",
     "output_type": "stream",
     "text": [
      "Epoch 9/30 => Train Loss: 0.0793, Train Acc: 0.9740 | Val Loss: 0.2147, Val Acc: 0.9784\n",
      "Validation accuracy improved (0.9757 --> 0.9784). Saving model...\n"
     ]
    },
    {
     "data": {
      "application/vnd.jupyter.widget-view+json": {
       "model_id": "ce0c15eb03e34b8b99aabdc96543bf8f",
       "version_major": 2,
       "version_minor": 0
      },
      "text/plain": [
       "Epoch 10/30 [Train]:   0%|          | 0/55 [00:00<?, ?it/s]"
      ]
     },
     "metadata": {},
     "output_type": "display_data"
    },
    {
     "data": {
      "application/vnd.jupyter.widget-view+json": {
       "model_id": "3d3aae797717480da201b10167cc003d",
       "version_major": 2,
       "version_minor": 0
      },
      "text/plain": [
       "Epoch 10/30 [Validate]:   0%|          | 0/12 [00:00<?, ?it/s]"
      ]
     },
     "metadata": {},
     "output_type": "display_data"
    },
    {
     "name": "stdout",
     "output_type": "stream",
     "text": [
      "Epoch 10/30 => Train Loss: 0.0526, Train Acc: 0.9827 | Val Loss: 0.2758, Val Acc: 0.9623\n",
      "Validation accuracy did not improve for 1 epoch(s).\n"
     ]
    },
    {
     "data": {
      "application/vnd.jupyter.widget-view+json": {
       "model_id": "dad8976d619d4cf886dc8e8a96773a6c",
       "version_major": 2,
       "version_minor": 0
      },
      "text/plain": [
       "Epoch 11/30 [Train]:   0%|          | 0/55 [00:00<?, ?it/s]"
      ]
     },
     "metadata": {},
     "output_type": "display_data"
    },
    {
     "data": {
      "application/vnd.jupyter.widget-view+json": {
       "model_id": "5c33b84beece45df9c11667dce4aaf21",
       "version_major": 2,
       "version_minor": 0
      },
      "text/plain": [
       "Epoch 11/30 [Validate]:   0%|          | 0/12 [00:00<?, ?it/s]"
      ]
     },
     "metadata": {},
     "output_type": "display_data"
    },
    {
     "name": "stdout",
     "output_type": "stream",
     "text": [
      "Epoch 11/30 => Train Loss: 0.0590, Train Acc: 0.9786 | Val Loss: 0.2430, Val Acc: 0.9730\n",
      "Validation accuracy did not improve for 2 epoch(s).\n"
     ]
    },
    {
     "data": {
      "application/vnd.jupyter.widget-view+json": {
       "model_id": "c078ad7892e24d7b9bb1cc6c4d474b6f",
       "version_major": 2,
       "version_minor": 0
      },
      "text/plain": [
       "Epoch 12/30 [Train]:   0%|          | 0/55 [00:00<?, ?it/s]"
      ]
     },
     "metadata": {},
     "output_type": "display_data"
    },
    {
     "data": {
      "application/vnd.jupyter.widget-view+json": {
       "model_id": "18805791776e47c0b71da0a18c0bd51a",
       "version_major": 2,
       "version_minor": 0
      },
      "text/plain": [
       "Epoch 12/30 [Validate]:   0%|          | 0/12 [00:00<?, ?it/s]"
      ]
     },
     "metadata": {},
     "output_type": "display_data"
    },
    {
     "name": "stdout",
     "output_type": "stream",
     "text": [
      "Epoch 12/30 => Train Loss: 0.0585, Train Acc: 0.9809 | Val Loss: 0.3252, Val Acc: 0.9596\n",
      "Validation accuracy did not improve for 3 epoch(s).\n"
     ]
    },
    {
     "data": {
      "application/vnd.jupyter.widget-view+json": {
       "model_id": "1b4f06584a1045cc8339716b9dba54c1",
       "version_major": 2,
       "version_minor": 0
      },
      "text/plain": [
       "Epoch 13/30 [Train]:   0%|          | 0/55 [00:00<?, ?it/s]"
      ]
     },
     "metadata": {},
     "output_type": "display_data"
    },
    {
     "data": {
      "application/vnd.jupyter.widget-view+json": {
       "model_id": "290b24a444754bdba170443f165ea06f",
       "version_major": 2,
       "version_minor": 0
      },
      "text/plain": [
       "Epoch 13/30 [Validate]:   0%|          | 0/12 [00:00<?, ?it/s]"
      ]
     },
     "metadata": {},
     "output_type": "display_data"
    },
    {
     "name": "stdout",
     "output_type": "stream",
     "text": [
      "Epoch 13/30 => Train Loss: 0.0393, Train Acc: 0.9890 | Val Loss: 0.2490, Val Acc: 0.9811\n",
      "Validation accuracy improved (0.9784 --> 0.9811). Saving model...\n"
     ]
    },
    {
     "data": {
      "application/vnd.jupyter.widget-view+json": {
       "model_id": "d63e2fbd6a4b4aa1a0448fb6aa787a1e",
       "version_major": 2,
       "version_minor": 0
      },
      "text/plain": [
       "Epoch 14/30 [Train]:   0%|          | 0/55 [00:00<?, ?it/s]"
      ]
     },
     "metadata": {},
     "output_type": "display_data"
    },
    {
     "data": {
      "application/vnd.jupyter.widget-view+json": {
       "model_id": "ff409991d312426fb7fc69b5036510f9",
       "version_major": 2,
       "version_minor": 0
      },
      "text/plain": [
       "Epoch 14/30 [Validate]:   0%|          | 0/12 [00:00<?, ?it/s]"
      ]
     },
     "metadata": {},
     "output_type": "display_data"
    },
    {
     "name": "stdout",
     "output_type": "stream",
     "text": [
      "Epoch 14/30 => Train Loss: 0.0414, Train Acc: 0.9867 | Val Loss: 0.2527, Val Acc: 0.9838\n",
      "Validation accuracy improved (0.9811 --> 0.9838). Saving model...\n"
     ]
    },
    {
     "data": {
      "application/vnd.jupyter.widget-view+json": {
       "model_id": "da58183fa4824fbdb6146e2ba0f9f5c1",
       "version_major": 2,
       "version_minor": 0
      },
      "text/plain": [
       "Epoch 15/30 [Train]:   0%|          | 0/55 [00:00<?, ?it/s]"
      ]
     },
     "metadata": {},
     "output_type": "display_data"
    },
    {
     "data": {
      "application/vnd.jupyter.widget-view+json": {
       "model_id": "da592aa586c4417d836996e107ed6aad",
       "version_major": 2,
       "version_minor": 0
      },
      "text/plain": [
       "Epoch 15/30 [Validate]:   0%|          | 0/12 [00:00<?, ?it/s]"
      ]
     },
     "metadata": {},
     "output_type": "display_data"
    },
    {
     "name": "stdout",
     "output_type": "stream",
     "text": [
      "Epoch 15/30 => Train Loss: 0.0293, Train Acc: 0.9913 | Val Loss: 0.2255, Val Acc: 0.9892\n",
      "Validation accuracy improved (0.9838 --> 0.9892). Saving model...\n"
     ]
    },
    {
     "data": {
      "application/vnd.jupyter.widget-view+json": {
       "model_id": "d053437488964431a2ba5438515c826e",
       "version_major": 2,
       "version_minor": 0
      },
      "text/plain": [
       "Epoch 16/30 [Train]:   0%|          | 0/55 [00:00<?, ?it/s]"
      ]
     },
     "metadata": {},
     "output_type": "display_data"
    },
    {
     "data": {
      "application/vnd.jupyter.widget-view+json": {
       "model_id": "ab9b27a7a48f43bdac3c299b75c49b0b",
       "version_major": 2,
       "version_minor": 0
      },
      "text/plain": [
       "Epoch 16/30 [Validate]:   0%|          | 0/12 [00:00<?, ?it/s]"
      ]
     },
     "metadata": {},
     "output_type": "display_data"
    },
    {
     "name": "stdout",
     "output_type": "stream",
     "text": [
      "Epoch 16/30 => Train Loss: 0.0301, Train Acc: 0.9896 | Val Loss: 0.2141, Val Acc: 0.9865\n",
      "Validation accuracy did not improve for 1 epoch(s).\n"
     ]
    },
    {
     "data": {
      "application/vnd.jupyter.widget-view+json": {
       "model_id": "63e5e9704598441e8dcae1ca244ead6c",
       "version_major": 2,
       "version_minor": 0
      },
      "text/plain": [
       "Epoch 17/30 [Train]:   0%|          | 0/55 [00:00<?, ?it/s]"
      ]
     },
     "metadata": {},
     "output_type": "display_data"
    },
    {
     "data": {
      "application/vnd.jupyter.widget-view+json": {
       "model_id": "23db8a2387c2432ebdf7cbb258397d3c",
       "version_major": 2,
       "version_minor": 0
      },
      "text/plain": [
       "Epoch 17/30 [Validate]:   0%|          | 0/12 [00:00<?, ?it/s]"
      ]
     },
     "metadata": {},
     "output_type": "display_data"
    },
    {
     "name": "stdout",
     "output_type": "stream",
     "text": [
      "Epoch 17/30 => Train Loss: 0.0239, Train Acc: 0.9919 | Val Loss: 0.2468, Val Acc: 0.9892\n",
      "Validation accuracy did not improve for 2 epoch(s).\n"
     ]
    },
    {
     "data": {
      "application/vnd.jupyter.widget-view+json": {
       "model_id": "b997557e9119418280a4631bf9860055",
       "version_major": 2,
       "version_minor": 0
      },
      "text/plain": [
       "Epoch 18/30 [Train]:   0%|          | 0/55 [00:00<?, ?it/s]"
      ]
     },
     "metadata": {},
     "output_type": "display_data"
    },
    {
     "data": {
      "application/vnd.jupyter.widget-view+json": {
       "model_id": "cd8da45a64a049a1ac1ba28d2d5ee55f",
       "version_major": 2,
       "version_minor": 0
      },
      "text/plain": [
       "Epoch 18/30 [Validate]:   0%|          | 0/12 [00:00<?, ?it/s]"
      ]
     },
     "metadata": {},
     "output_type": "display_data"
    },
    {
     "name": "stdout",
     "output_type": "stream",
     "text": [
      "Epoch 18/30 => Train Loss: 0.0349, Train Acc: 0.9902 | Val Loss: 0.2601, Val Acc: 0.9811\n",
      "Validation accuracy did not improve for 3 epoch(s).\n"
     ]
    },
    {
     "data": {
      "application/vnd.jupyter.widget-view+json": {
       "model_id": "2a1d8f1931934691b718fc6787ff3cca",
       "version_major": 2,
       "version_minor": 0
      },
      "text/plain": [
       "Epoch 19/30 [Train]:   0%|          | 0/55 [00:00<?, ?it/s]"
      ]
     },
     "metadata": {},
     "output_type": "display_data"
    },
    {
     "data": {
      "application/vnd.jupyter.widget-view+json": {
       "model_id": "9a8ccd9f59f94adeb7b67bb7a9430c45",
       "version_major": 2,
       "version_minor": 0
      },
      "text/plain": [
       "Epoch 19/30 [Validate]:   0%|          | 0/12 [00:00<?, ?it/s]"
      ]
     },
     "metadata": {},
     "output_type": "display_data"
    },
    {
     "name": "stdout",
     "output_type": "stream",
     "text": [
      "Epoch 19/30 => Train Loss: 0.0263, Train Acc: 0.9896 | Val Loss: 0.3669, Val Acc: 0.9488\n",
      "Validation accuracy did not improve for 4 epoch(s).\n"
     ]
    },
    {
     "data": {
      "application/vnd.jupyter.widget-view+json": {
       "model_id": "0c2ea3d3a6a7462db2d7728e7671b1e3",
       "version_major": 2,
       "version_minor": 0
      },
      "text/plain": [
       "Epoch 20/30 [Train]:   0%|          | 0/55 [00:00<?, ?it/s]"
      ]
     },
     "metadata": {},
     "output_type": "display_data"
    },
    {
     "data": {
      "application/vnd.jupyter.widget-view+json": {
       "model_id": "6c4114331aea421a8628fbd6b92c8fd0",
       "version_major": 2,
       "version_minor": 0
      },
      "text/plain": [
       "Epoch 20/30 [Validate]:   0%|          | 0/12 [00:00<?, ?it/s]"
      ]
     },
     "metadata": {},
     "output_type": "display_data"
    },
    {
     "name": "stdout",
     "output_type": "stream",
     "text": [
      "Epoch 20/30 => Train Loss: 0.0268, Train Acc: 0.9913 | Val Loss: 0.2575, Val Acc: 0.9892\n",
      "Validation accuracy did not improve for 5 epoch(s).\n",
      "Early stopping triggered after 20 epochs.\n",
      "Loading best model weights for final evaluation.\n"
     ]
    }
   ],
   "source": [
    "best_val_accuracy = 0.0\n",
    "epochs_no_improve = 0\n",
    "best_model_weights = None # Store best weights here\n",
    "history = {'train_loss': [], 'train_acc': [], 'val_loss': [], 'val_acc': []}\n",
    "\n",
    "for epoch in range(EPOCHS):\n",
    "    # --- Training Phase ---\n",
    "    model.train() # Set model to training mode (enables dropout, batch norm updates)\n",
    "    running_loss = 0.0\n",
    "    correct_predictions = 0\n",
    "    total_samples = 0\n",
    "\n",
    "    train_pbar = tqdm(train_loader, desc=f\"Epoch {epoch+1}/{EPOCHS} [Train]\", leave=False)\n",
    "    for inputs, labels in train_pbar:\n",
    "        inputs, labels = inputs.to(device), labels.to(device).unsqueeze(1) # Add dimension for BCEWithLogitsLoss\n",
    "\n",
    "        # Zero the parameter gradients\n",
    "        optimizer.zero_grad()\n",
    "\n",
    "        # Forward pass\n",
    "        outputs = model(inputs)\n",
    "        loss = criterion(outputs, labels)\n",
    "\n",
    "        # Backward pass and optimize\n",
    "        loss.backward()\n",
    "        optimizer.step()\n",
    "\n",
    "        # Statistics\n",
    "        running_loss += loss.item() * inputs.size(0)\n",
    "        # Apply sigmoid and threshold for accuracy calculation\n",
    "        preds = torch.sigmoid(outputs) > 0.5\n",
    "        correct_predictions += (preds == labels.byte()).sum().item() # Use byte for bool comparison\n",
    "        total_samples += labels.size(0)\n",
    "\n",
    "        train_pbar.set_postfix({'loss': loss.item()})\n",
    "\n",
    "    epoch_train_loss = running_loss / total_samples\n",
    "    epoch_train_acc = correct_predictions / total_samples\n",
    "    history['train_loss'].append(epoch_train_loss)\n",
    "    history['train_acc'].append(epoch_train_acc)\n",
    "\n",
    "    # --- Validation Phase ---\n",
    "    model.eval() # Set model to evaluation mode (disables dropout, uses running stats for batch norm)\n",
    "    running_val_loss = 0.0\n",
    "    correct_val_predictions = 0\n",
    "    total_val_samples = 0\n",
    "\n",
    "    val_pbar = tqdm(val_loader, desc=f\"Epoch {epoch+1}/{EPOCHS} [Validate]\", leave=False)\n",
    "    with torch.no_grad(): # Disable gradient calculations\n",
    "        for inputs, labels in val_pbar:\n",
    "            inputs, labels = inputs.to(device), labels.to(device).unsqueeze(1)\n",
    "\n",
    "            outputs = model(inputs)\n",
    "            loss = criterion(outputs, labels)\n",
    "\n",
    "            running_val_loss += loss.item() * inputs.size(0)\n",
    "            preds = torch.sigmoid(outputs) > 0.5\n",
    "            correct_val_predictions += (preds == labels.byte()).sum().item()\n",
    "            total_val_samples += labels.size(0)\n",
    "            val_pbar.set_postfix({'val_loss': loss.item()})\n",
    "\n",
    "    epoch_val_loss = running_val_loss / total_val_samples\n",
    "    epoch_val_acc = correct_val_predictions / total_val_samples\n",
    "    history['val_loss'].append(epoch_val_loss)\n",
    "    history['val_acc'].append(epoch_val_acc)\n",
    "\n",
    "    print(f\"Epoch {epoch+1}/{EPOCHS} => \"\n",
    "          f\"Train Loss: {epoch_train_loss:.4f}, Train Acc: {epoch_train_acc:.4f} | \"\n",
    "          f\"Val Loss: {epoch_val_loss:.4f}, Val Acc: {epoch_val_acc:.4f}\")\n",
    "\n",
    "    # --- Model Checkpoint & Early Stopping ---\n",
    "    if epoch_val_acc > best_val_accuracy:\n",
    "        print(f\"Validation accuracy improved ({best_val_accuracy:.4f} --> {epoch_val_acc:.4f}). Saving model...\")\n",
    "        best_val_accuracy = epoch_val_acc\n",
    "        # Save the best model state\n",
    "        best_model_weights = copy.deepcopy(model.state_dict())\n",
    "        torch.save(best_model_weights, 'best_pepper_classifier_pytorch.pth')\n",
    "        epochs_no_improve = 0\n",
    "    else:\n",
    "        epochs_no_improve += 1\n",
    "        print(f\"Validation accuracy did not improve for {epochs_no_improve} epoch(s).\")\n",
    "\n",
    "    if epochs_no_improve >= PATIENCE:\n",
    "        print(f\"Early stopping triggered after {epoch + 1} epochs.\")\n",
    "        break\n",
    "    \n",
    "if best_model_weights:\n",
    "    print(\"Loading best model weights for final evaluation.\")\n",
    "    model.load_state_dict(best_model_weights)\n",
    "else:\n",
    "     print(\"Warning: No best model weights saved (perhaps training stopped early or didn't improve). Using last epoch weights.\")"
   ]
  },
  {
   "cell_type": "code",
   "execution_count": 16,
   "metadata": {},
   "outputs": [
    {
     "data": {
      "image/png": "[encoded data removed]",
      "text/plain": [
       "<Figure size 1200x500 with 2 Axes>"
      ]
     },
     "metadata": {},
     "output_type": "display_data"
    }
   ],
   "source": [
    "epochs_range = range(1, len(history['train_loss']) + 1)\n",
    "\n",
    "plt.figure(figsize=(12, 5))\n",
    "\n",
    "plt.subplot(1, 2, 1)\n",
    "plt.plot(epochs_range, history['train_acc'], label='Training Accuracy')\n",
    "plt.plot(epochs_range, history['val_acc'], label='Validation Accuracy')\n",
    "plt.legend(loc='lower right')\n",
    "plt.title('Training and Validation Accuracy')\n",
    "plt.xlabel('Epoch')\n",
    "plt.ylabel('Accuracy')\n",
    "\n",
    "\n",
    "plt.subplot(1, 2, 2)\n",
    "plt.plot(epochs_range, history['train_loss'], label='Training Loss')\n",
    "plt.plot(epochs_range, history['val_loss'], label='Validation Loss')\n",
    "plt.legend(loc='upper right')\n",
    "plt.title('Training and Validation Loss')\n",
    "plt.xlabel('Epoch')\n",
    "plt.ylabel('Loss')\n",
    "\n",
    "plt.tight_layout()\n",
    "plt.show()"
   ]
  },
  {
   "cell_type": "code",
   "execution_count": 17,
   "metadata": {},
   "outputs": [
    {
     "data": {
      "application/vnd.jupyter.widget-view+json": {
       "model_id": "1244e4d1a91942d1bd9ea1ddeebd3953",
       "version_major": 2,
       "version_minor": 0
      },
      "text/plain": [
       "Testing:   0%|          | 0/12 [00:00<?, ?it/s]"
      ]
     },
     "metadata": {},
     "output_type": "display_data"
    },
    {
     "name": "stdout",
     "output_type": "stream",
     "text": [
      "\n",
      "Test Loss: 0.0136\n",
      "Test Accuracy: 0.9973\n"
     ]
    }
   ],
   "source": [
    "model.eval()\n",
    "\n",
    "all_preds = []\n",
    "all_labels = []\n",
    "test_loss = 0.0\n",
    "total_test_samples = 0\n",
    "\n",
    "with torch.no_grad():\n",
    "    for inputs, labels in tqdm(test_loader, desc=\"Testing\"):\n",
    "        inputs, labels = inputs.to(device), labels.to(device).unsqueeze(1)\n",
    "\n",
    "        outputs = model(inputs)\n",
    "        loss = criterion(outputs, labels) # Calculate loss on test set as well\n",
    "\n",
    "        test_loss += loss.item() * inputs.size(0)\n",
    "        total_test_samples += labels.size(0)\n",
    "\n",
    "        # Get predictions\n",
    "        preds = torch.sigmoid(outputs) > 0.5\n",
    "        all_preds.extend(preds.cpu().numpy()) # Move predictions to CPU and store\n",
    "        all_labels.extend(labels.cpu().numpy()) # Move labels to CPU and store\n",
    "\n",
    "final_test_loss = test_loss / total_test_samples\n",
    "# Flatten lists for scikit-learn metrics\n",
    "all_preds = np.array(all_preds).flatten().astype(int)\n",
    "all_labels = np.array(all_labels).flatten().astype(int)\n",
    "\n",
    "final_test_accuracy = accuracy_score(all_labels, all_preds)\n",
    "\n",
    "print(f\"\\nTest Loss: {final_test_loss:.4f}\")\n",
    "print(f\"Test Accuracy: {final_test_accuracy:.4f}\")"
   ]
  },
  {
   "cell_type": "code",
   "execution_count": 18,
   "metadata": {},
   "outputs": [
    {
     "name": "stdout",
     "output_type": "stream",
     "text": [
      "\n",
      "Classification Report:\n",
      "                precision    recall  f1-score   support\n",
      "\n",
      "Bacterial_spot       1.00      0.99      1.00       150\n",
      "       Healthy       1.00      1.00      1.00       222\n",
      "\n",
      "      accuracy                           1.00       372\n",
      "     macro avg       1.00      1.00      1.00       372\n",
      "  weighted avg       1.00      1.00      1.00       372\n",
      "\n",
      "\n",
      "Confusion Matrix:\n",
      "[[149   1]\n",
      " [  0 222]]\n"
     ]
    },
    {
     "data": {
      "image/png": "[encoded data removed]",
      "text/plain": [
       "<Figure size 600x500 with 2 Axes>"
      ]
     },
     "metadata": {},
     "output_type": "display_data"
    }
   ],
   "source": [
    "class_labels = list(label_map.keys())\n",
    "\n",
    "print(\"\\nClassification Report:\")\n",
    "print(classification_report(all_labels, all_preds, target_names=class_labels))\n",
    "\n",
    "print(\"\\nConfusion Matrix:\")\n",
    "cm = confusion_matrix(all_labels, all_preds)\n",
    "print(cm)\n",
    "\n",
    "# Plot Confusion Matrix\n",
    "plt.figure(figsize=(6, 5))\n",
    "sns.heatmap(cm, annot=True, fmt='d', cmap='Blues', xticklabels=class_labels, yticklabels=class_labels)\n",
    "plt.xlabel('Predicted Label')\n",
    "plt.ylabel('True Label')\n",
    "plt.title('Confusion Matrix')\n",
    "plt.show()"
   ]
  }
 ],
 "metadata": {
  "kernelspec": {
   "display_name": "Python 3",
   "language": "python",
   "name": "python3"
  },
  "language_info": {
   "codemirror_mode": {
    "name": "ipython",
    "version": 3
   },
   "file_extension": ".py",
   "mimetype": "text/x-python",
   "name": "python",
   "nbconvert_exporter": "python",
   "pygments_lexer": "ipython3",
   "version": "3.10.12"
  }
 },
 "nbformat": 4,
 "nbformat_minor": 2
}
